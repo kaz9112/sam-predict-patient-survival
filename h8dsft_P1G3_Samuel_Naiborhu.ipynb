{
 "cells": [
  {
   "cell_type": "markdown",
   "metadata": {},
   "source": [
    "bigquery query\n",
    "\n",
    "SELECT * \n",
    "FROM `ftds-hacktiv8-project.phase1_ftds_015_rmt.heart-failure`;"
   ]
  },
  {
   "attachments": {},
   "cell_type": "markdown",
   "metadata": {},
   "source": [
    "Dataset : Heart Failure\n",
    "\n",
    "Objective : Create a Classification model using Random Forest and Gradient boosting classifier to predict whether a patient will die or not."
   ]
  },
  {
   "cell_type": "markdown",
   "metadata": {},
   "source": [
    "# II. Import libraries"
   ]
  },
  {
   "cell_type": "code",
   "execution_count": 1,
   "metadata": {},
   "outputs": [],
   "source": [
    "import numpy as np\n",
    "import pandas as pd\n",
    "import matplotlib.pyplot as plt\n",
    "import seaborn as sns\n",
    "sns.set()\n",
    "\n",
    "from sklearn.model_selection import train_test_split\n",
    "from sklearn.ensemble import RandomForestClassifier\n",
    "from sklearn.ensemble import GradientBoostingClassifier\n",
    "from sklearn.model_selection import GridSearchCV\n",
    "from sklearn.preprocessing import MinMaxScaler\n",
    "from sklearn.metrics import accuracy_score, classification_report, f1_score\n",
    "from sklearn.model_selection import cross_val_score\n",
    "from imblearn.over_sampling import SMOTE \n",
    "\n",
    "\n",
    "import joblib\n",
    "import json\n",
    "import warnings\n",
    "warnings.simplefilter(\"ignore\")"
   ]
  },
  {
   "cell_type": "markdown",
   "metadata": {},
   "source": [
    "# III. Data Loading"
   ]
  },
  {
   "cell_type": "code",
   "execution_count": 2,
   "metadata": {},
   "outputs": [
    {
     "data": {
      "text/html": [
       "<div>\n",
       "<style scoped>\n",
       "    .dataframe tbody tr th:only-of-type {\n",
       "        vertical-align: middle;\n",
       "    }\n",
       "\n",
       "    .dataframe tbody tr th {\n",
       "        vertical-align: top;\n",
       "    }\n",
       "\n",
       "    .dataframe thead th {\n",
       "        text-align: right;\n",
       "    }\n",
       "</style>\n",
       "<table border=\"1\" class=\"dataframe\">\n",
       "  <thead>\n",
       "    <tr style=\"text-align: right;\">\n",
       "      <th></th>\n",
       "      <th>age</th>\n",
       "      <th>anaemia</th>\n",
       "      <th>creatinine_phosphokinase</th>\n",
       "      <th>diabetes</th>\n",
       "      <th>ejection_fraction</th>\n",
       "      <th>high_blood_pressure</th>\n",
       "      <th>platelets</th>\n",
       "      <th>serum_creatinine</th>\n",
       "      <th>serum_sodium</th>\n",
       "      <th>sex</th>\n",
       "      <th>smoking</th>\n",
       "      <th>time</th>\n",
       "      <th>DEATH_EVENT</th>\n",
       "    </tr>\n",
       "  </thead>\n",
       "  <tbody>\n",
       "    <tr>\n",
       "      <th>0</th>\n",
       "      <td>42.0</td>\n",
       "      <td>1</td>\n",
       "      <td>250</td>\n",
       "      <td>1</td>\n",
       "      <td>15</td>\n",
       "      <td>0</td>\n",
       "      <td>213000.0</td>\n",
       "      <td>1.3</td>\n",
       "      <td>136</td>\n",
       "      <td>0</td>\n",
       "      <td>0</td>\n",
       "      <td>65</td>\n",
       "      <td>1</td>\n",
       "    </tr>\n",
       "    <tr>\n",
       "      <th>1</th>\n",
       "      <td>46.0</td>\n",
       "      <td>0</td>\n",
       "      <td>168</td>\n",
       "      <td>1</td>\n",
       "      <td>17</td>\n",
       "      <td>1</td>\n",
       "      <td>271000.0</td>\n",
       "      <td>2.1</td>\n",
       "      <td>124</td>\n",
       "      <td>0</td>\n",
       "      <td>0</td>\n",
       "      <td>100</td>\n",
       "      <td>1</td>\n",
       "    </tr>\n",
       "    <tr>\n",
       "      <th>2</th>\n",
       "      <td>65.0</td>\n",
       "      <td>1</td>\n",
       "      <td>160</td>\n",
       "      <td>1</td>\n",
       "      <td>20</td>\n",
       "      <td>0</td>\n",
       "      <td>327000.0</td>\n",
       "      <td>2.7</td>\n",
       "      <td>116</td>\n",
       "      <td>0</td>\n",
       "      <td>0</td>\n",
       "      <td>8</td>\n",
       "      <td>1</td>\n",
       "    </tr>\n",
       "    <tr>\n",
       "      <th>3</th>\n",
       "      <td>53.0</td>\n",
       "      <td>1</td>\n",
       "      <td>91</td>\n",
       "      <td>0</td>\n",
       "      <td>20</td>\n",
       "      <td>1</td>\n",
       "      <td>418000.0</td>\n",
       "      <td>1.4</td>\n",
       "      <td>139</td>\n",
       "      <td>0</td>\n",
       "      <td>0</td>\n",
       "      <td>43</td>\n",
       "      <td>1</td>\n",
       "    </tr>\n",
       "    <tr>\n",
       "      <th>4</th>\n",
       "      <td>50.0</td>\n",
       "      <td>1</td>\n",
       "      <td>582</td>\n",
       "      <td>1</td>\n",
       "      <td>20</td>\n",
       "      <td>1</td>\n",
       "      <td>279000.0</td>\n",
       "      <td>1.0</td>\n",
       "      <td>134</td>\n",
       "      <td>0</td>\n",
       "      <td>0</td>\n",
       "      <td>186</td>\n",
       "      <td>0</td>\n",
       "    </tr>\n",
       "  </tbody>\n",
       "</table>\n",
       "</div>"
      ],
      "text/plain": [
       "    age  anaemia  creatinine_phosphokinase  diabetes  ejection_fraction  \\\n",
       "0  42.0        1                       250         1                 15   \n",
       "1  46.0        0                       168         1                 17   \n",
       "2  65.0        1                       160         1                 20   \n",
       "3  53.0        1                        91         0                 20   \n",
       "4  50.0        1                       582         1                 20   \n",
       "\n",
       "   high_blood_pressure  platelets  serum_creatinine  serum_sodium  sex  \\\n",
       "0                    0   213000.0               1.3           136    0   \n",
       "1                    1   271000.0               2.1           124    0   \n",
       "2                    0   327000.0               2.7           116    0   \n",
       "3                    1   418000.0               1.4           139    0   \n",
       "4                    1   279000.0               1.0           134    0   \n",
       "\n",
       "   smoking  time  DEATH_EVENT  \n",
       "0        0    65            1  \n",
       "1        0   100            1  \n",
       "2        0     8            1  \n",
       "3        0    43            1  \n",
       "4        0   186            0  "
      ]
     },
     "execution_count": 2,
     "metadata": {},
     "output_type": "execute_result"
    }
   ],
   "source": [
    "# load data\n",
    "raw_data = pd.read_csv('h8dsft_P1G3_Samuel_Naiborhu.csv')\n",
    "pd.set_option('display.max_columns', None)\n",
    "\n",
    "# show dataframe head\n",
    "raw_data.head()"
   ]
  },
  {
   "cell_type": "code",
   "execution_count": 3,
   "metadata": {},
   "outputs": [
    {
     "data": {
      "text/html": [
       "<div>\n",
       "<style scoped>\n",
       "    .dataframe tbody tr th:only-of-type {\n",
       "        vertical-align: middle;\n",
       "    }\n",
       "\n",
       "    .dataframe tbody tr th {\n",
       "        vertical-align: top;\n",
       "    }\n",
       "\n",
       "    .dataframe thead th {\n",
       "        text-align: right;\n",
       "    }\n",
       "</style>\n",
       "<table border=\"1\" class=\"dataframe\">\n",
       "  <thead>\n",
       "    <tr style=\"text-align: right;\">\n",
       "      <th></th>\n",
       "      <th>age</th>\n",
       "      <th>anaemia</th>\n",
       "      <th>creatinine_phosphokinase</th>\n",
       "      <th>diabetes</th>\n",
       "      <th>ejection_fraction</th>\n",
       "      <th>high_blood_pressure</th>\n",
       "      <th>platelets</th>\n",
       "      <th>serum_creatinine</th>\n",
       "      <th>serum_sodium</th>\n",
       "      <th>sex</th>\n",
       "      <th>smoking</th>\n",
       "      <th>time</th>\n",
       "      <th>DEATH_EVENT</th>\n",
       "    </tr>\n",
       "  </thead>\n",
       "  <tbody>\n",
       "    <tr>\n",
       "      <th>294</th>\n",
       "      <td>63.0</td>\n",
       "      <td>1</td>\n",
       "      <td>122</td>\n",
       "      <td>1</td>\n",
       "      <td>60</td>\n",
       "      <td>0</td>\n",
       "      <td>267000.00</td>\n",
       "      <td>1.2</td>\n",
       "      <td>145</td>\n",
       "      <td>1</td>\n",
       "      <td>0</td>\n",
       "      <td>147</td>\n",
       "      <td>0</td>\n",
       "    </tr>\n",
       "    <tr>\n",
       "      <th>295</th>\n",
       "      <td>45.0</td>\n",
       "      <td>0</td>\n",
       "      <td>308</td>\n",
       "      <td>1</td>\n",
       "      <td>60</td>\n",
       "      <td>1</td>\n",
       "      <td>377000.00</td>\n",
       "      <td>1.0</td>\n",
       "      <td>136</td>\n",
       "      <td>1</td>\n",
       "      <td>0</td>\n",
       "      <td>186</td>\n",
       "      <td>0</td>\n",
       "    </tr>\n",
       "    <tr>\n",
       "      <th>296</th>\n",
       "      <td>70.0</td>\n",
       "      <td>0</td>\n",
       "      <td>97</td>\n",
       "      <td>0</td>\n",
       "      <td>60</td>\n",
       "      <td>1</td>\n",
       "      <td>220000.00</td>\n",
       "      <td>0.9</td>\n",
       "      <td>138</td>\n",
       "      <td>1</td>\n",
       "      <td>0</td>\n",
       "      <td>186</td>\n",
       "      <td>0</td>\n",
       "    </tr>\n",
       "    <tr>\n",
       "      <th>297</th>\n",
       "      <td>53.0</td>\n",
       "      <td>1</td>\n",
       "      <td>446</td>\n",
       "      <td>0</td>\n",
       "      <td>60</td>\n",
       "      <td>1</td>\n",
       "      <td>263358.03</td>\n",
       "      <td>1.0</td>\n",
       "      <td>139</td>\n",
       "      <td>1</td>\n",
       "      <td>0</td>\n",
       "      <td>215</td>\n",
       "      <td>0</td>\n",
       "    </tr>\n",
       "    <tr>\n",
       "      <th>298</th>\n",
       "      <td>50.0</td>\n",
       "      <td>0</td>\n",
       "      <td>582</td>\n",
       "      <td>0</td>\n",
       "      <td>62</td>\n",
       "      <td>1</td>\n",
       "      <td>147000.00</td>\n",
       "      <td>0.8</td>\n",
       "      <td>140</td>\n",
       "      <td>1</td>\n",
       "      <td>1</td>\n",
       "      <td>192</td>\n",
       "      <td>0</td>\n",
       "    </tr>\n",
       "  </tbody>\n",
       "</table>\n",
       "</div>"
      ],
      "text/plain": [
       "      age  anaemia  creatinine_phosphokinase  diabetes  ejection_fraction  \\\n",
       "294  63.0        1                       122         1                 60   \n",
       "295  45.0        0                       308         1                 60   \n",
       "296  70.0        0                        97         0                 60   \n",
       "297  53.0        1                       446         0                 60   \n",
       "298  50.0        0                       582         0                 62   \n",
       "\n",
       "     high_blood_pressure  platelets  serum_creatinine  serum_sodium  sex  \\\n",
       "294                    0  267000.00               1.2           145    1   \n",
       "295                    1  377000.00               1.0           136    1   \n",
       "296                    1  220000.00               0.9           138    1   \n",
       "297                    1  263358.03               1.0           139    1   \n",
       "298                    1  147000.00               0.8           140    1   \n",
       "\n",
       "     smoking  time  DEATH_EVENT  \n",
       "294        0   147            0  \n",
       "295        0   186            0  \n",
       "296        0   186            0  \n",
       "297        0   215            0  \n",
       "298        1   192            0  "
      ]
     },
     "execution_count": 3,
     "metadata": {},
     "output_type": "execute_result"
    }
   ],
   "source": [
    "# show dataframe tail\n",
    "raw_data.tail()"
   ]
  },
  {
   "cell_type": "markdown",
   "metadata": {},
   "source": [
    "# IV. Exploratory Data Analysis (EDA)"
   ]
  },
  {
   "cell_type": "code",
   "execution_count": 4,
   "metadata": {},
   "outputs": [
    {
     "data": {
      "text/html": [
       "<div>\n",
       "<style scoped>\n",
       "    .dataframe tbody tr th:only-of-type {\n",
       "        vertical-align: middle;\n",
       "    }\n",
       "\n",
       "    .dataframe tbody tr th {\n",
       "        vertical-align: top;\n",
       "    }\n",
       "\n",
       "    .dataframe thead th {\n",
       "        text-align: right;\n",
       "    }\n",
       "</style>\n",
       "<table border=\"1\" class=\"dataframe\">\n",
       "  <thead>\n",
       "    <tr style=\"text-align: right;\">\n",
       "      <th></th>\n",
       "      <th>age</th>\n",
       "      <th>anaemia</th>\n",
       "      <th>creatinine_phosphokinase</th>\n",
       "      <th>diabetes</th>\n",
       "      <th>ejection_fraction</th>\n",
       "      <th>high_blood_pressure</th>\n",
       "      <th>platelets</th>\n",
       "      <th>serum_creatinine</th>\n",
       "      <th>serum_sodium</th>\n",
       "      <th>sex</th>\n",
       "      <th>smoking</th>\n",
       "      <th>time</th>\n",
       "      <th>DEATH_EVENT</th>\n",
       "    </tr>\n",
       "  </thead>\n",
       "  <tbody>\n",
       "    <tr>\n",
       "      <th>count</th>\n",
       "      <td>299.000000</td>\n",
       "      <td>299.000000</td>\n",
       "      <td>299.000000</td>\n",
       "      <td>299.000000</td>\n",
       "      <td>299.000000</td>\n",
       "      <td>299.000000</td>\n",
       "      <td>299.000000</td>\n",
       "      <td>299.00000</td>\n",
       "      <td>299.000000</td>\n",
       "      <td>299.000000</td>\n",
       "      <td>299.00000</td>\n",
       "      <td>299.000000</td>\n",
       "      <td>299.00000</td>\n",
       "    </tr>\n",
       "    <tr>\n",
       "      <th>mean</th>\n",
       "      <td>60.833893</td>\n",
       "      <td>0.431438</td>\n",
       "      <td>581.839465</td>\n",
       "      <td>0.418060</td>\n",
       "      <td>38.083612</td>\n",
       "      <td>0.351171</td>\n",
       "      <td>263358.029264</td>\n",
       "      <td>1.39388</td>\n",
       "      <td>136.625418</td>\n",
       "      <td>0.648829</td>\n",
       "      <td>0.32107</td>\n",
       "      <td>130.260870</td>\n",
       "      <td>0.32107</td>\n",
       "    </tr>\n",
       "    <tr>\n",
       "      <th>std</th>\n",
       "      <td>11.894809</td>\n",
       "      <td>0.496107</td>\n",
       "      <td>970.287881</td>\n",
       "      <td>0.494067</td>\n",
       "      <td>11.834841</td>\n",
       "      <td>0.478136</td>\n",
       "      <td>97804.236869</td>\n",
       "      <td>1.03451</td>\n",
       "      <td>4.412477</td>\n",
       "      <td>0.478136</td>\n",
       "      <td>0.46767</td>\n",
       "      <td>77.614208</td>\n",
       "      <td>0.46767</td>\n",
       "    </tr>\n",
       "    <tr>\n",
       "      <th>min</th>\n",
       "      <td>40.000000</td>\n",
       "      <td>0.000000</td>\n",
       "      <td>23.000000</td>\n",
       "      <td>0.000000</td>\n",
       "      <td>14.000000</td>\n",
       "      <td>0.000000</td>\n",
       "      <td>25100.000000</td>\n",
       "      <td>0.50000</td>\n",
       "      <td>113.000000</td>\n",
       "      <td>0.000000</td>\n",
       "      <td>0.00000</td>\n",
       "      <td>4.000000</td>\n",
       "      <td>0.00000</td>\n",
       "    </tr>\n",
       "    <tr>\n",
       "      <th>25%</th>\n",
       "      <td>51.000000</td>\n",
       "      <td>0.000000</td>\n",
       "      <td>116.500000</td>\n",
       "      <td>0.000000</td>\n",
       "      <td>30.000000</td>\n",
       "      <td>0.000000</td>\n",
       "      <td>212500.000000</td>\n",
       "      <td>0.90000</td>\n",
       "      <td>134.000000</td>\n",
       "      <td>0.000000</td>\n",
       "      <td>0.00000</td>\n",
       "      <td>73.000000</td>\n",
       "      <td>0.00000</td>\n",
       "    </tr>\n",
       "    <tr>\n",
       "      <th>50%</th>\n",
       "      <td>60.000000</td>\n",
       "      <td>0.000000</td>\n",
       "      <td>250.000000</td>\n",
       "      <td>0.000000</td>\n",
       "      <td>38.000000</td>\n",
       "      <td>0.000000</td>\n",
       "      <td>262000.000000</td>\n",
       "      <td>1.10000</td>\n",
       "      <td>137.000000</td>\n",
       "      <td>1.000000</td>\n",
       "      <td>0.00000</td>\n",
       "      <td>115.000000</td>\n",
       "      <td>0.00000</td>\n",
       "    </tr>\n",
       "    <tr>\n",
       "      <th>75%</th>\n",
       "      <td>70.000000</td>\n",
       "      <td>1.000000</td>\n",
       "      <td>582.000000</td>\n",
       "      <td>1.000000</td>\n",
       "      <td>45.000000</td>\n",
       "      <td>1.000000</td>\n",
       "      <td>303500.000000</td>\n",
       "      <td>1.40000</td>\n",
       "      <td>140.000000</td>\n",
       "      <td>1.000000</td>\n",
       "      <td>1.00000</td>\n",
       "      <td>203.000000</td>\n",
       "      <td>1.00000</td>\n",
       "    </tr>\n",
       "    <tr>\n",
       "      <th>max</th>\n",
       "      <td>95.000000</td>\n",
       "      <td>1.000000</td>\n",
       "      <td>7861.000000</td>\n",
       "      <td>1.000000</td>\n",
       "      <td>80.000000</td>\n",
       "      <td>1.000000</td>\n",
       "      <td>850000.000000</td>\n",
       "      <td>9.40000</td>\n",
       "      <td>148.000000</td>\n",
       "      <td>1.000000</td>\n",
       "      <td>1.00000</td>\n",
       "      <td>285.000000</td>\n",
       "      <td>1.00000</td>\n",
       "    </tr>\n",
       "  </tbody>\n",
       "</table>\n",
       "</div>"
      ],
      "text/plain": [
       "              age     anaemia  creatinine_phosphokinase    diabetes  \\\n",
       "count  299.000000  299.000000                299.000000  299.000000   \n",
       "mean    60.833893    0.431438                581.839465    0.418060   \n",
       "std     11.894809    0.496107                970.287881    0.494067   \n",
       "min     40.000000    0.000000                 23.000000    0.000000   \n",
       "25%     51.000000    0.000000                116.500000    0.000000   \n",
       "50%     60.000000    0.000000                250.000000    0.000000   \n",
       "75%     70.000000    1.000000                582.000000    1.000000   \n",
       "max     95.000000    1.000000               7861.000000    1.000000   \n",
       "\n",
       "       ejection_fraction  high_blood_pressure      platelets  \\\n",
       "count         299.000000           299.000000     299.000000   \n",
       "mean           38.083612             0.351171  263358.029264   \n",
       "std            11.834841             0.478136   97804.236869   \n",
       "min            14.000000             0.000000   25100.000000   \n",
       "25%            30.000000             0.000000  212500.000000   \n",
       "50%            38.000000             0.000000  262000.000000   \n",
       "75%            45.000000             1.000000  303500.000000   \n",
       "max            80.000000             1.000000  850000.000000   \n",
       "\n",
       "       serum_creatinine  serum_sodium         sex    smoking        time  \\\n",
       "count         299.00000    299.000000  299.000000  299.00000  299.000000   \n",
       "mean            1.39388    136.625418    0.648829    0.32107  130.260870   \n",
       "std             1.03451      4.412477    0.478136    0.46767   77.614208   \n",
       "min             0.50000    113.000000    0.000000    0.00000    4.000000   \n",
       "25%             0.90000    134.000000    0.000000    0.00000   73.000000   \n",
       "50%             1.10000    137.000000    1.000000    0.00000  115.000000   \n",
       "75%             1.40000    140.000000    1.000000    1.00000  203.000000   \n",
       "max             9.40000    148.000000    1.000000    1.00000  285.000000   \n",
       "\n",
       "       DEATH_EVENT  \n",
       "count    299.00000  \n",
       "mean       0.32107  \n",
       "std        0.46767  \n",
       "min        0.00000  \n",
       "25%        0.00000  \n",
       "50%        0.00000  \n",
       "75%        1.00000  \n",
       "max        1.00000  "
      ]
     },
     "execution_count": 4,
     "metadata": {},
     "output_type": "execute_result"
    }
   ],
   "source": [
    "raw_data.describe()"
   ]
  },
  {
   "cell_type": "markdown",
   "metadata": {},
   "source": [
    "The maximum age of the dataset is 95 years, the minimum age of the dataset is 40 years. "
   ]
  },
  {
   "cell_type": "code",
   "execution_count": 5,
   "metadata": {},
   "outputs": [
    {
     "data": {
      "image/png": "[encoded data removed]",
      "text/plain": [
       "<Figure size 1080x1440 with 6 Axes>"
      ]
     },
     "metadata": {},
     "output_type": "display_data"
    }
   ],
   "source": [
    "# Create Plot\n",
    "\n",
    "plt.figure(figsize=(15,20))\n",
    "\n",
    "plt.subplot(3,2,1)\n",
    "sns.histplot(x=raw_data['age'], bins=20, hue=raw_data['DEATH_EVENT'], multiple='stack')\n",
    "plt.title('Histogram of age grouped by Death rate')\n",
    "\n",
    "plt.subplot(3,2,2)\n",
    "sns.histplot(x=raw_data['age'], bins=20, hue=raw_data['DEATH_EVENT'], multiple='fill')\n",
    "plt.title('Histogram of age grouped by Death compared survives and death')\n",
    "\n",
    "plt.subplot(3,2,3)\n",
    "sns.countplot(x=raw_data[raw_data['sex'] == 0]['sex'],hue=raw_data['DEATH_EVENT'])\n",
    "plt.ylim(top=140)\n",
    "plt.title('count plot of death and survival count from heart failure by sex female')\n",
    "\n",
    "plt.subplot(3,2,4)\n",
    "sns.countplot(x=raw_data[raw_data['sex'] == 1]['sex'],hue=raw_data['DEATH_EVENT'])\n",
    "plt.ylim(top=140)\n",
    "plt.title('count plot of death and survival count from heart failure by sex male')\n",
    "\n",
    "plt.subplot(3,2,5)\n",
    "sns.countplot(x=raw_data[raw_data['diabetes'] == 0]['diabetes'],hue=raw_data['DEATH_EVENT'])\n",
    "plt.ylim(top=140)\n",
    "plt.title('count plot of death and survival count from heart failure by not having diabetes')\n",
    "\n",
    "plt.subplot(3,2,6)\n",
    "sns.countplot(x=raw_data[raw_data['diabetes'] == 1]['diabetes'],hue=raw_data['DEATH_EVENT'])\n",
    "plt.ylim(top=140)\n",
    "plt.title('count plot of death and survival count from heart failure by having diabetes')\n",
    "\n",
    "\n",
    "plt.tight_layout()\n",
    "plt.show()"
   ]
  },
  {
   "cell_type": "markdown",
   "metadata": {},
   "source": [
    "on the first row of the chart above, we can see that (blue = survives, orange = deaths) the older people get heart failure, the higher the risks of death."
   ]
  },
  {
   "cell_type": "code",
   "execution_count": 6,
   "metadata": {},
   "outputs": [
    {
     "data": {
      "text/plain": [
       "31.958762886597935"
      ]
     },
     "execution_count": 6,
     "metadata": {},
     "output_type": "execute_result"
    }
   ],
   "source": [
    "# checking male death rate from heart failure\n",
    "raw_data[(raw_data['sex'] == 1)&(raw_data['DEATH_EVENT'] == 1)]['sex'].count() / raw_data[(raw_data['sex'] == 1)]['DEATH_EVENT'].count() * 100"
   ]
  },
  {
   "cell_type": "code",
   "execution_count": 7,
   "metadata": {},
   "outputs": [
    {
     "data": {
      "text/plain": [
       "32.38095238095238"
      ]
     },
     "execution_count": 7,
     "metadata": {},
     "output_type": "execute_result"
    }
   ],
   "source": [
    "# checking female death rate from heart failure\n",
    "raw_data[(raw_data['sex'] == 0)&(raw_data['DEATH_EVENT'] == 1)]['sex'].count() / raw_data[(raw_data['sex'] == 0)]['DEATH_EVENT'].count() * 100"
   ]
  },
  {
   "cell_type": "markdown",
   "metadata": {},
   "source": [
    "on the second row of the chart above, and calculations above, we can see (blue = survives, orange = deaths) heart failure, and deaths caused by it happens more in men. although the the death rate from heart failure is slightly higher in women than men."
   ]
  },
  {
   "cell_type": "code",
   "execution_count": 8,
   "metadata": {},
   "outputs": [
    {
     "data": {
      "text/plain": [
       "32.18390804597701"
      ]
     },
     "execution_count": 8,
     "metadata": {},
     "output_type": "execute_result"
    }
   ],
   "source": [
    "# checking people without diabtes death rate from heart failure\n",
    "raw_data[(raw_data['diabetes'] == 0)&(raw_data['DEATH_EVENT'] == 1)]['diabetes'].count() / raw_data[(raw_data['diabetes'] == 0)]['DEATH_EVENT'].count() * 100"
   ]
  },
  {
   "cell_type": "code",
   "execution_count": 9,
   "metadata": {},
   "outputs": [
    {
     "data": {
      "text/plain": [
       "32.0"
      ]
     },
     "execution_count": 9,
     "metadata": {},
     "output_type": "execute_result"
    }
   ],
   "source": [
    "# checking people with diabtes death rate from heart failure\n",
    "raw_data[(raw_data['diabetes'] == 1)&(raw_data['DEATH_EVENT'] == 1)]['diabetes'].count() / raw_data[(raw_data['diabetes'] == 1)]['DEATH_EVENT'].count() * 100"
   ]
  },
  {
   "cell_type": "code",
   "execution_count": 10,
   "metadata": {},
   "outputs": [
    {
     "data": {
      "text/plain": [
       "41.80602006688963"
      ]
     },
     "execution_count": 10,
     "metadata": {},
     "output_type": "execute_result"
    }
   ],
   "source": [
    "# comparing percentage of people with diabetes had a heart failure\n",
    "raw_data[(raw_data['diabetes'] == 1)]['diabetes'].count() / raw_data['diabetes'].count() * 100"
   ]
  },
  {
   "cell_type": "markdown",
   "metadata": {},
   "source": [
    "on the third row of the chart above, and calculations above, we can see (blue = survives, orange = deaths) having diebetes lower the risks of having heart failure."
   ]
  },
  {
   "cell_type": "code",
   "execution_count": 11,
   "metadata": {},
   "outputs": [
    {
     "data": {
      "image/png": "[encoded data removed]",
      "text/plain": [
       "<Figure size 1080x720 with 2 Axes>"
      ]
     },
     "metadata": {},
     "output_type": "display_data"
    }
   ],
   "source": [
    "# Create Plot\n",
    "\n",
    "plt.figure(figsize=(15,10))\n",
    "\n",
    "plt.subplot(1,2,1)\n",
    "sns.countplot(x=raw_data[raw_data['smoking'] == 0]['smoking'],hue=raw_data['DEATH_EVENT'])\n",
    "plt.ylim(top=140)\n",
    "plt.title('count plot of death and survival count from heart failure of non smoker')\n",
    "\n",
    "plt.subplot(1,2,2)\n",
    "sns.countplot(x=raw_data[raw_data['smoking'] == 1]['smoking'],hue=raw_data['DEATH_EVENT'])\n",
    "plt.ylim(top=140)\n",
    "plt.title('count plot of death and survival count from heart failure by sex male of smoker')\n",
    "\n",
    "\n",
    "plt.tight_layout()\n",
    "plt.show()"
   ]
  },
  {
   "cell_type": "code",
   "execution_count": 12,
   "metadata": {},
   "outputs": [
    {
     "data": {
      "text/plain": [
       "31.25"
      ]
     },
     "execution_count": 12,
     "metadata": {},
     "output_type": "execute_result"
    }
   ],
   "source": [
    "# checking smoker death rate from heart failure\n",
    "raw_data[(raw_data['smoking'] == 1)&(raw_data['DEATH_EVENT'] == 1)]['smoking'].count() / raw_data[(raw_data['smoking'] == 1)]['DEATH_EVENT'].count() * 100"
   ]
  },
  {
   "cell_type": "code",
   "execution_count": 13,
   "metadata": {},
   "outputs": [
    {
     "data": {
      "text/plain": [
       "32.51231527093596"
      ]
     },
     "execution_count": 13,
     "metadata": {},
     "output_type": "execute_result"
    }
   ],
   "source": [
    "# checking non smoker death rate from heart failure\n",
    "raw_data[(raw_data['smoking'] == 0)&(raw_data['DEATH_EVENT'] == 1)]['smoking'].count() / raw_data[(raw_data['smoking'] == 0)]['DEATH_EVENT'].count() * 100"
   ]
  },
  {
   "cell_type": "markdown",
   "metadata": {},
   "source": [
    "Heart failures are far often encountered by people who smoke, smoking probably one of the biggest cause of heart failure. That said the rate of survival of people who smoke is more or less the same with non smoker, perhaps there are other factors that affect the rates of survival."
   ]
  },
  {
   "cell_type": "markdown",
   "metadata": {},
   "source": [
    "# V. Data preprocessing"
   ]
  },
  {
   "cell_type": "markdown",
   "metadata": {},
   "source": [
    "## V.I. define dataframe for inferencing"
   ]
  },
  {
   "cell_type": "code",
   "execution_count": 14,
   "metadata": {},
   "outputs": [
    {
     "data": {
      "text/plain": [
       "15"
      ]
     },
     "execution_count": 14,
     "metadata": {},
     "output_type": "execute_result"
    }
   ],
   "source": [
    "inf_count =  round(raw_data.shape[0]*0.05)\n",
    "inf_count"
   ]
  },
  {
   "cell_type": "code",
   "execution_count": 15,
   "metadata": {},
   "outputs": [
    {
     "data": {
      "text/html": [
       "<div>\n",
       "<style scoped>\n",
       "    .dataframe tbody tr th:only-of-type {\n",
       "        vertical-align: middle;\n",
       "    }\n",
       "\n",
       "    .dataframe tbody tr th {\n",
       "        vertical-align: top;\n",
       "    }\n",
       "\n",
       "    .dataframe thead th {\n",
       "        text-align: right;\n",
       "    }\n",
       "</style>\n",
       "<table border=\"1\" class=\"dataframe\">\n",
       "  <thead>\n",
       "    <tr style=\"text-align: right;\">\n",
       "      <th></th>\n",
       "      <th>age</th>\n",
       "      <th>anaemia</th>\n",
       "      <th>creatinine_phosphokinase</th>\n",
       "      <th>diabetes</th>\n",
       "      <th>ejection_fraction</th>\n",
       "      <th>high_blood_pressure</th>\n",
       "      <th>platelets</th>\n",
       "      <th>serum_creatinine</th>\n",
       "      <th>serum_sodium</th>\n",
       "      <th>sex</th>\n",
       "      <th>smoking</th>\n",
       "      <th>time</th>\n",
       "      <th>DEATH_EVENT</th>\n",
       "    </tr>\n",
       "  </thead>\n",
       "  <tbody>\n",
       "    <tr>\n",
       "      <th>205</th>\n",
       "      <td>55.0</td>\n",
       "      <td>0</td>\n",
       "      <td>7861</td>\n",
       "      <td>0</td>\n",
       "      <td>38</td>\n",
       "      <td>0</td>\n",
       "      <td>263358.03</td>\n",
       "      <td>1.1</td>\n",
       "      <td>136</td>\n",
       "      <td>1</td>\n",
       "      <td>0</td>\n",
       "      <td>6</td>\n",
       "      <td>1</td>\n",
       "    </tr>\n",
       "    <tr>\n",
       "      <th>69</th>\n",
       "      <td>73.0</td>\n",
       "      <td>1</td>\n",
       "      <td>1185</td>\n",
       "      <td>0</td>\n",
       "      <td>40</td>\n",
       "      <td>1</td>\n",
       "      <td>220000.00</td>\n",
       "      <td>0.9</td>\n",
       "      <td>141</td>\n",
       "      <td>0</td>\n",
       "      <td>0</td>\n",
       "      <td>213</td>\n",
       "      <td>0</td>\n",
       "    </tr>\n",
       "    <tr>\n",
       "      <th>198</th>\n",
       "      <td>40.0</td>\n",
       "      <td>0</td>\n",
       "      <td>90</td>\n",
       "      <td>0</td>\n",
       "      <td>35</td>\n",
       "      <td>0</td>\n",
       "      <td>255000.00</td>\n",
       "      <td>1.1</td>\n",
       "      <td>136</td>\n",
       "      <td>1</td>\n",
       "      <td>1</td>\n",
       "      <td>212</td>\n",
       "      <td>0</td>\n",
       "    </tr>\n",
       "    <tr>\n",
       "      <th>56</th>\n",
       "      <td>55.0</td>\n",
       "      <td>0</td>\n",
       "      <td>1820</td>\n",
       "      <td>0</td>\n",
       "      <td>38</td>\n",
       "      <td>0</td>\n",
       "      <td>270000.00</td>\n",
       "      <td>1.2</td>\n",
       "      <td>139</td>\n",
       "      <td>0</td>\n",
       "      <td>0</td>\n",
       "      <td>271</td>\n",
       "      <td>0</td>\n",
       "    </tr>\n",
       "    <tr>\n",
       "      <th>11</th>\n",
       "      <td>60.0</td>\n",
       "      <td>0</td>\n",
       "      <td>1896</td>\n",
       "      <td>1</td>\n",
       "      <td>25</td>\n",
       "      <td>0</td>\n",
       "      <td>365000.00</td>\n",
       "      <td>2.1</td>\n",
       "      <td>144</td>\n",
       "      <td>0</td>\n",
       "      <td>0</td>\n",
       "      <td>172</td>\n",
       "      <td>1</td>\n",
       "    </tr>\n",
       "  </tbody>\n",
       "</table>\n",
       "</div>"
      ],
      "text/plain": [
       "      age  anaemia  creatinine_phosphokinase  diabetes  ejection_fraction  \\\n",
       "205  55.0        0                      7861         0                 38   \n",
       "69   73.0        1                      1185         0                 40   \n",
       "198  40.0        0                        90         0                 35   \n",
       "56   55.0        0                      1820         0                 38   \n",
       "11   60.0        0                      1896         1                 25   \n",
       "\n",
       "     high_blood_pressure  platelets  serum_creatinine  serum_sodium  sex  \\\n",
       "205                    0  263358.03               1.1           136    1   \n",
       "69                     1  220000.00               0.9           141    0   \n",
       "198                    0  255000.00               1.1           136    1   \n",
       "56                     0  270000.00               1.2           139    0   \n",
       "11                     0  365000.00               2.1           144    0   \n",
       "\n",
       "     smoking  time  DEATH_EVENT  \n",
       "205        0     6            1  \n",
       "69         0   213            0  \n",
       "198        1   212            0  \n",
       "56         0   271            0  \n",
       "11         0   172            1  "
      ]
     },
     "execution_count": 15,
     "metadata": {},
     "output_type": "execute_result"
    }
   ],
   "source": [
    "# Get Data for model inference\n",
    "data_inf = raw_data.sample(inf_count, random_state=33)\n",
    "data_inf.sample(5)"
   ]
  },
  {
   "cell_type": "code",
   "execution_count": 16,
   "metadata": {},
   "outputs": [
    {
     "name": "stdout",
     "output_type": "stream",
     "text": [
      "old data size: 299\n",
      "new data size: 284\n"
     ]
    }
   ],
   "source": [
    "# drop data_inf from main dataframe\n",
    "raw_data_1 = raw_data.drop(data_inf.index)\n",
    "print(f'old data size: {raw_data.shape[0]}')\n",
    "print(f'new data size: {raw_data_1.shape[0]}')"
   ]
  },
  {
   "cell_type": "markdown",
   "metadata": {},
   "source": [
    "## V.II. Split train test dataset"
   ]
  },
  {
   "cell_type": "code",
   "execution_count": 17,
   "metadata": {},
   "outputs": [
    {
     "data": {
      "text/plain": [
       "0    203\n",
       "1     96\n",
       "Name: DEATH_EVENT, dtype: int64"
      ]
     },
     "execution_count": 17,
     "metadata": {},
     "output_type": "execute_result"
    }
   ],
   "source": [
    "# see whether data imbalance or not\n",
    "raw_data['DEATH_EVENT'].value_counts()"
   ]
  },
  {
   "cell_type": "code",
   "execution_count": 18,
   "metadata": {},
   "outputs": [],
   "source": [
    "# define features variable as X\n",
    "X = raw_data_1.drop('DEATH_EVENT', axis=1)"
   ]
  },
  {
   "cell_type": "code",
   "execution_count": 19,
   "metadata": {},
   "outputs": [
    {
     "data": {
      "text/plain": [
       "29     0\n",
       "204    0\n",
       "99     0\n",
       "192    0\n",
       "23     0\n",
       "Name: DEATH_EVENT, dtype: int64"
      ]
     },
     "execution_count": 19,
     "metadata": {},
     "output_type": "execute_result"
    }
   ],
   "source": [
    "# define target variable as y\n",
    "y = raw_data_1['DEATH_EVENT']\n",
    "y.sample(5)"
   ]
  },
  {
   "cell_type": "code",
   "execution_count": 20,
   "metadata": {},
   "outputs": [
    {
     "name": "stdout",
     "output_type": "stream",
     "text": [
      "Train size: 227\n",
      "Test size: 57\n"
     ]
    }
   ],
   "source": [
    "# Split the dataset\n",
    "X_train, X_test, y_train, y_test = train_test_split(X, y, test_size = 0.20, random_state=33)\n",
    "\n",
    "print(f'Train size: {X_train.shape[0]}')\n",
    "print(f'Test size: {X_test.shape[0]}')"
   ]
  },
  {
   "cell_type": "markdown",
   "metadata": {},
   "source": [
    "## V.III. Handling empty values"
   ]
  },
  {
   "cell_type": "code",
   "execution_count": 21,
   "metadata": {},
   "outputs": [
    {
     "data": {
      "text/plain": [
       "age                         0\n",
       "anaemia                     0\n",
       "creatinine_phosphokinase    0\n",
       "diabetes                    0\n",
       "ejection_fraction           0\n",
       "high_blood_pressure         0\n",
       "platelets                   0\n",
       "serum_creatinine            0\n",
       "serum_sodium                0\n",
       "sex                         0\n",
       "smoking                     0\n",
       "time                        0\n",
       "dtype: int64"
      ]
     },
     "execution_count": 21,
     "metadata": {},
     "output_type": "execute_result"
    }
   ],
   "source": [
    "# sum null value\n",
    "X_train.isnull().sum()"
   ]
  },
  {
   "cell_type": "markdown",
   "metadata": {},
   "source": [
    "After checking the dataset, there is no empty value found."
   ]
  },
  {
   "cell_type": "markdown",
   "metadata": {},
   "source": [
    "## V.IV. Handling Outlier"
   ]
  },
  {
   "cell_type": "code",
   "execution_count": 22,
   "metadata": {},
   "outputs": [
    {
     "data": {
      "text/html": [
       "<div>\n",
       "<style scoped>\n",
       "    .dataframe tbody tr th:only-of-type {\n",
       "        vertical-align: middle;\n",
       "    }\n",
       "\n",
       "    .dataframe tbody tr th {\n",
       "        vertical-align: top;\n",
       "    }\n",
       "\n",
       "    .dataframe thead th {\n",
       "        text-align: right;\n",
       "    }\n",
       "</style>\n",
       "<table border=\"1\" class=\"dataframe\">\n",
       "  <thead>\n",
       "    <tr style=\"text-align: right;\">\n",
       "      <th></th>\n",
       "      <th>age</th>\n",
       "      <th>anaemia</th>\n",
       "      <th>creatinine_phosphokinase</th>\n",
       "      <th>diabetes</th>\n",
       "      <th>ejection_fraction</th>\n",
       "      <th>high_blood_pressure</th>\n",
       "      <th>platelets</th>\n",
       "      <th>serum_creatinine</th>\n",
       "      <th>serum_sodium</th>\n",
       "      <th>sex</th>\n",
       "      <th>smoking</th>\n",
       "      <th>time</th>\n",
       "    </tr>\n",
       "  </thead>\n",
       "  <tbody>\n",
       "    <tr>\n",
       "      <th>187</th>\n",
       "      <td>51.0</td>\n",
       "      <td>1</td>\n",
       "      <td>582</td>\n",
       "      <td>1</td>\n",
       "      <td>35</td>\n",
       "      <td>0</td>\n",
       "      <td>263358.03</td>\n",
       "      <td>1.50</td>\n",
       "      <td>136</td>\n",
       "      <td>1</td>\n",
       "      <td>1</td>\n",
       "      <td>145</td>\n",
       "    </tr>\n",
       "    <tr>\n",
       "      <th>165</th>\n",
       "      <td>65.0</td>\n",
       "      <td>0</td>\n",
       "      <td>582</td>\n",
       "      <td>1</td>\n",
       "      <td>30</td>\n",
       "      <td>0</td>\n",
       "      <td>249000.00</td>\n",
       "      <td>1.30</td>\n",
       "      <td>136</td>\n",
       "      <td>1</td>\n",
       "      <td>1</td>\n",
       "      <td>212</td>\n",
       "    </tr>\n",
       "    <tr>\n",
       "      <th>135</th>\n",
       "      <td>68.0</td>\n",
       "      <td>1</td>\n",
       "      <td>646</td>\n",
       "      <td>0</td>\n",
       "      <td>25</td>\n",
       "      <td>0</td>\n",
       "      <td>305000.00</td>\n",
       "      <td>2.10</td>\n",
       "      <td>130</td>\n",
       "      <td>1</td>\n",
       "      <td>0</td>\n",
       "      <td>108</td>\n",
       "    </tr>\n",
       "    <tr>\n",
       "      <th>38</th>\n",
       "      <td>55.0</td>\n",
       "      <td>0</td>\n",
       "      <td>572</td>\n",
       "      <td>1</td>\n",
       "      <td>35</td>\n",
       "      <td>0</td>\n",
       "      <td>231000.00</td>\n",
       "      <td>0.80</td>\n",
       "      <td>143</td>\n",
       "      <td>0</td>\n",
       "      <td>0</td>\n",
       "      <td>215</td>\n",
       "    </tr>\n",
       "    <tr>\n",
       "      <th>182</th>\n",
       "      <td>53.0</td>\n",
       "      <td>1</td>\n",
       "      <td>270</td>\n",
       "      <td>1</td>\n",
       "      <td>35</td>\n",
       "      <td>0</td>\n",
       "      <td>227000.00</td>\n",
       "      <td>3.40</td>\n",
       "      <td>145</td>\n",
       "      <td>1</td>\n",
       "      <td>0</td>\n",
       "      <td>105</td>\n",
       "    </tr>\n",
       "    <tr>\n",
       "      <th>163</th>\n",
       "      <td>73.0</td>\n",
       "      <td>1</td>\n",
       "      <td>231</td>\n",
       "      <td>1</td>\n",
       "      <td>30</td>\n",
       "      <td>0</td>\n",
       "      <td>160000.00</td>\n",
       "      <td>1.18</td>\n",
       "      <td>142</td>\n",
       "      <td>1</td>\n",
       "      <td>1</td>\n",
       "      <td>180</td>\n",
       "    </tr>\n",
       "    <tr>\n",
       "      <th>217</th>\n",
       "      <td>75.0</td>\n",
       "      <td>0</td>\n",
       "      <td>99</td>\n",
       "      <td>0</td>\n",
       "      <td>38</td>\n",
       "      <td>1</td>\n",
       "      <td>224000.00</td>\n",
       "      <td>2.50</td>\n",
       "      <td>134</td>\n",
       "      <td>1</td>\n",
       "      <td>0</td>\n",
       "      <td>162</td>\n",
       "    </tr>\n",
       "    <tr>\n",
       "      <th>280</th>\n",
       "      <td>53.0</td>\n",
       "      <td>0</td>\n",
       "      <td>56</td>\n",
       "      <td>0</td>\n",
       "      <td>50</td>\n",
       "      <td>0</td>\n",
       "      <td>308000.00</td>\n",
       "      <td>0.70</td>\n",
       "      <td>135</td>\n",
       "      <td>1</td>\n",
       "      <td>1</td>\n",
       "      <td>231</td>\n",
       "    </tr>\n",
       "    <tr>\n",
       "      <th>67</th>\n",
       "      <td>60.0</td>\n",
       "      <td>1</td>\n",
       "      <td>2281</td>\n",
       "      <td>1</td>\n",
       "      <td>40</td>\n",
       "      <td>0</td>\n",
       "      <td>283000.00</td>\n",
       "      <td>1.00</td>\n",
       "      <td>141</td>\n",
       "      <td>0</td>\n",
       "      <td>0</td>\n",
       "      <td>187</td>\n",
       "    </tr>\n",
       "    <tr>\n",
       "      <th>152</th>\n",
       "      <td>60.0</td>\n",
       "      <td>0</td>\n",
       "      <td>2656</td>\n",
       "      <td>1</td>\n",
       "      <td>30</td>\n",
       "      <td>0</td>\n",
       "      <td>305000.00</td>\n",
       "      <td>2.30</td>\n",
       "      <td>137</td>\n",
       "      <td>1</td>\n",
       "      <td>0</td>\n",
       "      <td>30</td>\n",
       "    </tr>\n",
       "  </tbody>\n",
       "</table>\n",
       "</div>"
      ],
      "text/plain": [
       "      age  anaemia  creatinine_phosphokinase  diabetes  ejection_fraction  \\\n",
       "187  51.0        1                       582         1                 35   \n",
       "165  65.0        0                       582         1                 30   \n",
       "135  68.0        1                       646         0                 25   \n",
       "38   55.0        0                       572         1                 35   \n",
       "182  53.0        1                       270         1                 35   \n",
       "163  73.0        1                       231         1                 30   \n",
       "217  75.0        0                        99         0                 38   \n",
       "280  53.0        0                        56         0                 50   \n",
       "67   60.0        1                      2281         1                 40   \n",
       "152  60.0        0                      2656         1                 30   \n",
       "\n",
       "     high_blood_pressure  platelets  serum_creatinine  serum_sodium  sex  \\\n",
       "187                    0  263358.03              1.50           136    1   \n",
       "165                    0  249000.00              1.30           136    1   \n",
       "135                    0  305000.00              2.10           130    1   \n",
       "38                     0  231000.00              0.80           143    0   \n",
       "182                    0  227000.00              3.40           145    1   \n",
       "163                    0  160000.00              1.18           142    1   \n",
       "217                    1  224000.00              2.50           134    1   \n",
       "280                    0  308000.00              0.70           135    1   \n",
       "67                     0  283000.00              1.00           141    0   \n",
       "152                    0  305000.00              2.30           137    1   \n",
       "\n",
       "     smoking  time  \n",
       "187        1   145  \n",
       "165        1   212  \n",
       "135        0   108  \n",
       "38         0   215  \n",
       "182        0   105  \n",
       "163        1   180  \n",
       "217        0   162  \n",
       "280        1   231  \n",
       "67         0   187  \n",
       "152        0    30  "
      ]
     },
     "execution_count": 22,
     "metadata": {},
     "output_type": "execute_result"
    }
   ],
   "source": [
    "# sumarize current dataset\n",
    "X_train.sample(10)"
   ]
  },
  {
   "cell_type": "code",
   "execution_count": 23,
   "metadata": {},
   "outputs": [],
   "source": [
    "# Plot outlier for target\n",
    "\n",
    "def outlier_plot(features):\n",
    "    # Define figure size\n",
    "    plt.figure(figsize=(16, 6))\n",
    "\n",
    "    # Histogram\n",
    "    plt.subplot(1, 2, 1)\n",
    "    sns.histplot(features, bins=30, kde=True)\n",
    "    plt.title('Histogram')\n",
    "\n",
    "    # Boxplot\n",
    "    plt.subplot(1, 2, 2)\n",
    "    sns.boxplot(y=features)\n",
    "    plt.title('Boxplot')\n",
    "\n",
    "    plt.show()"
   ]
  },
  {
   "cell_type": "code",
   "execution_count": 24,
   "metadata": {},
   "outputs": [],
   "source": [
    "# make boundary function\n",
    "def iqr_calc(feature):\n",
    "    skew_value = feature.skew()\n",
    "    \n",
    "    if -0.5 > skew_value < 0.5: # Normally distributed boundary\n",
    "        upper_boundary = feature.mean() + 3 * feature.std()\n",
    "        lower_boundary = feature.mean() - 3 * feature.std()\n",
    "    else: # skewed boundary\n",
    "        IQR= feature.quantile(0.75) - feature.quantile(0.25)\n",
    "        lower_boundary= feature.quantile(0.25)-(IQR*1.5)\n",
    "        upper_boundary= feature.quantile(0.75)+(IQR*1.5)\n",
    "    return lower_boundary, upper_boundary"
   ]
  },
  {
   "cell_type": "code",
   "execution_count": 25,
   "metadata": {},
   "outputs": [],
   "source": [
    "# make capping function\n",
    "def capping_data(dataset, column):\n",
    "  lower_bound, upper_bound = iqr_calc(dataset[column])\n",
    "  dataset.loc[dataset[column] > upper_bound, column] = upper_bound\n",
    "  dataset.loc[dataset[column] < lower_bound, column] = lower_bound\n",
    "  return dataset"
   ]
  },
  {
   "cell_type": "code",
   "execution_count": 26,
   "metadata": {},
   "outputs": [
    {
     "name": "stdout",
     "output_type": "stream",
     "text": [
      "Numerical Columns   :  ['age', 'anaemia', 'creatinine_phosphokinase', 'diabetes', 'ejection_fraction', 'high_blood_pressure', 'platelets', 'serum_creatinine', 'serum_sodium', 'sex', 'smoking', 'time']\n",
      "Categorical Columns :  []\n"
     ]
    }
   ],
   "source": [
    "# Get Numerical Columns and Categorical Columns\n",
    "\n",
    "num_columns = X_train.select_dtypes(include=np.number).columns.tolist()\n",
    "cat_columns = X_train.select_dtypes(include=['object']).columns.tolist()\n",
    "\n",
    "print('Numerical Columns   : ', num_columns)\n",
    "print('Categorical Columns : ', cat_columns)"
   ]
  },
  {
   "cell_type": "markdown",
   "metadata": {},
   "source": [
    "From the list above, we can see that there is no categorical feature. actually,\n",
    "some of the features were actually categorical but has been encoded(eg: anemia, sex, etc), we're going to move them to the categorical columns"
   ]
  },
  {
   "cell_type": "code",
   "execution_count": 27,
   "metadata": {},
   "outputs": [],
   "source": [
    "# Add actual categorical features to cat_columns list\n",
    "cat_columns.extend(['anaemia', 'diabetes', 'high_blood_pressure', 'sex', 'smoking'])"
   ]
  },
  {
   "cell_type": "code",
   "execution_count": 28,
   "metadata": {},
   "outputs": [
    {
     "data": {
      "text/plain": [
       "['anaemia', 'diabetes', 'high_blood_pressure', 'sex', 'smoking']"
      ]
     },
     "execution_count": 28,
     "metadata": {},
     "output_type": "execute_result"
    }
   ],
   "source": [
    "# summarize new cat_columns\n",
    "cat_columns"
   ]
  },
  {
   "cell_type": "code",
   "execution_count": 29,
   "metadata": {},
   "outputs": [
    {
     "data": {
      "text/plain": [
       "['age',\n",
       " 'creatinine_phosphokinase',\n",
       " 'ejection_fraction',\n",
       " 'platelets',\n",
       " 'serum_creatinine',\n",
       " 'serum_sodium',\n",
       " 'time']"
      ]
     },
     "execution_count": 29,
     "metadata": {},
     "output_type": "execute_result"
    }
   ],
   "source": [
    "# dropping categorical features from numerical features\n",
    "num_columns = [i for i in num_columns if i not in cat_columns]\n",
    "num_columns\n"
   ]
  },
  {
   "cell_type": "code",
   "execution_count": 30,
   "metadata": {},
   "outputs": [
    {
     "data": {
      "image/png": "[encoded data removed]",
      "text/plain": [
       "<Figure size 1152x432 with 2 Axes>"
      ]
     },
     "metadata": {},
     "output_type": "display_data"
    },
    {
     "data": {
      "image/png": "[encoded data removed]",
      "text/plain": [
       "<Figure size 1152x432 with 2 Axes>"
      ]
     },
     "metadata": {},
     "output_type": "display_data"
    },
    {
     "data": {
      "image/png": "[encoded data removed]",
      "text/plain": [
       "<Figure size 1152x432 with 2 Axes>"
      ]
     },
     "metadata": {},
     "output_type": "display_data"
    },
    {
     "data": {
      "image/png": "[encoded data removed]",
      "text/plain": [
       "<Figure size 1152x432 with 2 Axes>"
      ]
     },
     "metadata": {},
     "output_type": "display_data"
    },
    {
     "data": {
      "image/png": "[encoded data removed]",
      "text/plain": [
       "<Figure size 1152x432 with 2 Axes>"
      ]
     },
     "metadata": {},
     "output_type": "display_data"
    },
    {
     "data": {
      "image/png": "[encoded data removed]",
      "text/plain": [
       "<Figure size 1152x432 with 2 Axes>"
      ]
     },
     "metadata": {},
     "output_type": "display_data"
    },
    {
     "data": {
      "image/png": "[encoded data removed]",
      "text/plain": [
       "<Figure size 1152x432 with 2 Axes>"
      ]
     },
     "metadata": {},
     "output_type": "display_data"
    }
   ],
   "source": [
    "# plotting for numerical columns looking for outlier\n",
    "for i in num_columns:\n",
    "  outlier_plot(X_train[i])"
   ]
  },
  {
   "cell_type": "markdown",
   "metadata": {},
   "source": [
    "there are several features with outlier like creatinine_phosphokinase, ejection_fraction, platelets, serum_creatinine, serum_sodium.\n",
    "this outlier would make our model less accurate and bias."
   ]
  },
  {
   "cell_type": "code",
   "execution_count": 31,
   "metadata": {},
   "outputs": [],
   "source": [
    "# Capping numerical columns\n",
    "X_train_2 = X_train.copy()\n",
    "for i in num_columns:\n",
    "    capping_data(X_train_2, i)"
   ]
  },
  {
   "cell_type": "code",
   "execution_count": 32,
   "metadata": {},
   "outputs": [],
   "source": [
    "# # recheck for outlier_list\n",
    "# for i in num_columns:\n",
    "#   outlier_plot(X_train_2[i])"
   ]
  },
  {
   "cell_type": "markdown",
   "metadata": {},
   "source": [
    "## V.V Feature Selection"
   ]
  },
  {
   "cell_type": "code",
   "execution_count": 33,
   "metadata": {},
   "outputs": [],
   "source": [
    "# find corelation between features\n",
    "X_train_cor = X_train_2.corr() "
   ]
  },
  {
   "cell_type": "code",
   "execution_count": 34,
   "metadata": {},
   "outputs": [
    {
     "data": {
      "text/html": [
       "<div>\n",
       "<style scoped>\n",
       "    .dataframe tbody tr th:only-of-type {\n",
       "        vertical-align: middle;\n",
       "    }\n",
       "\n",
       "    .dataframe tbody tr th {\n",
       "        vertical-align: top;\n",
       "    }\n",
       "\n",
       "    .dataframe thead th {\n",
       "        text-align: right;\n",
       "    }\n",
       "</style>\n",
       "<table border=\"1\" class=\"dataframe\">\n",
       "  <thead>\n",
       "    <tr style=\"text-align: right;\">\n",
       "      <th></th>\n",
       "      <th>age</th>\n",
       "      <th>anaemia</th>\n",
       "      <th>creatinine_phosphokinase</th>\n",
       "      <th>diabetes</th>\n",
       "      <th>ejection_fraction</th>\n",
       "      <th>high_blood_pressure</th>\n",
       "      <th>platelets</th>\n",
       "      <th>serum_creatinine</th>\n",
       "      <th>serum_sodium</th>\n",
       "      <th>sex</th>\n",
       "      <th>smoking</th>\n",
       "      <th>time</th>\n",
       "    </tr>\n",
       "  </thead>\n",
       "  <tbody>\n",
       "    <tr>\n",
       "      <th>age</th>\n",
       "      <td>1.000000</td>\n",
       "      <td>0.098416</td>\n",
       "      <td>-0.102041</td>\n",
       "      <td>-0.124297</td>\n",
       "      <td>0.055810</td>\n",
       "      <td>0.093418</td>\n",
       "      <td>-0.065962</td>\n",
       "      <td>0.310904</td>\n",
       "      <td>-0.088210</td>\n",
       "      <td>0.072223</td>\n",
       "      <td>0.012831</td>\n",
       "      <td>-0.267518</td>\n",
       "    </tr>\n",
       "    <tr>\n",
       "      <th>anaemia</th>\n",
       "      <td>0.098416</td>\n",
       "      <td>1.000000</td>\n",
       "      <td>-0.246179</td>\n",
       "      <td>-0.003026</td>\n",
       "      <td>0.051880</td>\n",
       "      <td>0.044384</td>\n",
       "      <td>-0.029020</td>\n",
       "      <td>0.004078</td>\n",
       "      <td>0.091725</td>\n",
       "      <td>-0.094171</td>\n",
       "      <td>-0.028742</td>\n",
       "      <td>-0.175146</td>\n",
       "    </tr>\n",
       "    <tr>\n",
       "      <th>creatinine_phosphokinase</th>\n",
       "      <td>-0.102041</td>\n",
       "      <td>-0.246179</td>\n",
       "      <td>1.000000</td>\n",
       "      <td>0.020730</td>\n",
       "      <td>-0.057648</td>\n",
       "      <td>-0.085531</td>\n",
       "      <td>-0.009342</td>\n",
       "      <td>-0.083664</td>\n",
       "      <td>0.045650</td>\n",
       "      <td>0.067905</td>\n",
       "      <td>0.007917</td>\n",
       "      <td>0.093855</td>\n",
       "    </tr>\n",
       "    <tr>\n",
       "      <th>diabetes</th>\n",
       "      <td>-0.124297</td>\n",
       "      <td>-0.003026</td>\n",
       "      <td>0.020730</td>\n",
       "      <td>1.000000</td>\n",
       "      <td>-0.033588</td>\n",
       "      <td>-0.047453</td>\n",
       "      <td>0.098812</td>\n",
       "      <td>-0.005887</td>\n",
       "      <td>-0.053955</td>\n",
       "      <td>-0.152188</td>\n",
       "      <td>-0.147242</td>\n",
       "      <td>0.045524</td>\n",
       "    </tr>\n",
       "    <tr>\n",
       "      <th>ejection_fraction</th>\n",
       "      <td>0.055810</td>\n",
       "      <td>0.051880</td>\n",
       "      <td>-0.057648</td>\n",
       "      <td>-0.033588</td>\n",
       "      <td>1.000000</td>\n",
       "      <td>-0.019813</td>\n",
       "      <td>0.068361</td>\n",
       "      <td>-0.112588</td>\n",
       "      <td>0.213325</td>\n",
       "      <td>-0.168065</td>\n",
       "      <td>-0.050210</td>\n",
       "      <td>0.081183</td>\n",
       "    </tr>\n",
       "    <tr>\n",
       "      <th>high_blood_pressure</th>\n",
       "      <td>0.093418</td>\n",
       "      <td>0.044384</td>\n",
       "      <td>-0.085531</td>\n",
       "      <td>-0.047453</td>\n",
       "      <td>-0.019813</td>\n",
       "      <td>1.000000</td>\n",
       "      <td>0.074440</td>\n",
       "      <td>-0.031950</td>\n",
       "      <td>0.037836</td>\n",
       "      <td>-0.095732</td>\n",
       "      <td>-0.012418</td>\n",
       "      <td>-0.205100</td>\n",
       "    </tr>\n",
       "    <tr>\n",
       "      <th>platelets</th>\n",
       "      <td>-0.065962</td>\n",
       "      <td>-0.029020</td>\n",
       "      <td>-0.009342</td>\n",
       "      <td>0.098812</td>\n",
       "      <td>0.068361</td>\n",
       "      <td>0.074440</td>\n",
       "      <td>1.000000</td>\n",
       "      <td>-0.036757</td>\n",
       "      <td>0.033818</td>\n",
       "      <td>-0.131081</td>\n",
       "      <td>0.008817</td>\n",
       "      <td>-0.020359</td>\n",
       "    </tr>\n",
       "    <tr>\n",
       "      <th>serum_creatinine</th>\n",
       "      <td>0.310904</td>\n",
       "      <td>0.004078</td>\n",
       "      <td>-0.083664</td>\n",
       "      <td>-0.005887</td>\n",
       "      <td>-0.112588</td>\n",
       "      <td>-0.031950</td>\n",
       "      <td>-0.036757</td>\n",
       "      <td>1.000000</td>\n",
       "      <td>-0.287952</td>\n",
       "      <td>0.047299</td>\n",
       "      <td>-0.080401</td>\n",
       "      <td>-0.184214</td>\n",
       "    </tr>\n",
       "    <tr>\n",
       "      <th>serum_sodium</th>\n",
       "      <td>-0.088210</td>\n",
       "      <td>0.091725</td>\n",
       "      <td>0.045650</td>\n",
       "      <td>-0.053955</td>\n",
       "      <td>0.213325</td>\n",
       "      <td>0.037836</td>\n",
       "      <td>0.033818</td>\n",
       "      <td>-0.287952</td>\n",
       "      <td>1.000000</td>\n",
       "      <td>-0.066821</td>\n",
       "      <td>-0.000678</td>\n",
       "      <td>0.108335</td>\n",
       "    </tr>\n",
       "    <tr>\n",
       "      <th>sex</th>\n",
       "      <td>0.072223</td>\n",
       "      <td>-0.094171</td>\n",
       "      <td>0.067905</td>\n",
       "      <td>-0.152188</td>\n",
       "      <td>-0.168065</td>\n",
       "      <td>-0.095732</td>\n",
       "      <td>-0.131081</td>\n",
       "      <td>0.047299</td>\n",
       "      <td>-0.066821</td>\n",
       "      <td>1.000000</td>\n",
       "      <td>0.466813</td>\n",
       "      <td>0.022930</td>\n",
       "    </tr>\n",
       "    <tr>\n",
       "      <th>smoking</th>\n",
       "      <td>0.012831</td>\n",
       "      <td>-0.028742</td>\n",
       "      <td>0.007917</td>\n",
       "      <td>-0.147242</td>\n",
       "      <td>-0.050210</td>\n",
       "      <td>-0.012418</td>\n",
       "      <td>0.008817</td>\n",
       "      <td>-0.080401</td>\n",
       "      <td>-0.000678</td>\n",
       "      <td>0.466813</td>\n",
       "      <td>1.000000</td>\n",
       "      <td>0.015443</td>\n",
       "    </tr>\n",
       "    <tr>\n",
       "      <th>time</th>\n",
       "      <td>-0.267518</td>\n",
       "      <td>-0.175146</td>\n",
       "      <td>0.093855</td>\n",
       "      <td>0.045524</td>\n",
       "      <td>0.081183</td>\n",
       "      <td>-0.205100</td>\n",
       "      <td>-0.020359</td>\n",
       "      <td>-0.184214</td>\n",
       "      <td>0.108335</td>\n",
       "      <td>0.022930</td>\n",
       "      <td>0.015443</td>\n",
       "      <td>1.000000</td>\n",
       "    </tr>\n",
       "  </tbody>\n",
       "</table>\n",
       "</div>"
      ],
      "text/plain": [
       "                               age   anaemia  creatinine_phosphokinase  \\\n",
       "age                       1.000000  0.098416                 -0.102041   \n",
       "anaemia                   0.098416  1.000000                 -0.246179   \n",
       "creatinine_phosphokinase -0.102041 -0.246179                  1.000000   \n",
       "diabetes                 -0.124297 -0.003026                  0.020730   \n",
       "ejection_fraction         0.055810  0.051880                 -0.057648   \n",
       "high_blood_pressure       0.093418  0.044384                 -0.085531   \n",
       "platelets                -0.065962 -0.029020                 -0.009342   \n",
       "serum_creatinine          0.310904  0.004078                 -0.083664   \n",
       "serum_sodium             -0.088210  0.091725                  0.045650   \n",
       "sex                       0.072223 -0.094171                  0.067905   \n",
       "smoking                   0.012831 -0.028742                  0.007917   \n",
       "time                     -0.267518 -0.175146                  0.093855   \n",
       "\n",
       "                          diabetes  ejection_fraction  high_blood_pressure  \\\n",
       "age                      -0.124297           0.055810             0.093418   \n",
       "anaemia                  -0.003026           0.051880             0.044384   \n",
       "creatinine_phosphokinase  0.020730          -0.057648            -0.085531   \n",
       "diabetes                  1.000000          -0.033588            -0.047453   \n",
       "ejection_fraction        -0.033588           1.000000            -0.019813   \n",
       "high_blood_pressure      -0.047453          -0.019813             1.000000   \n",
       "platelets                 0.098812           0.068361             0.074440   \n",
       "serum_creatinine         -0.005887          -0.112588            -0.031950   \n",
       "serum_sodium             -0.053955           0.213325             0.037836   \n",
       "sex                      -0.152188          -0.168065            -0.095732   \n",
       "smoking                  -0.147242          -0.050210            -0.012418   \n",
       "time                      0.045524           0.081183            -0.205100   \n",
       "\n",
       "                          platelets  serum_creatinine  serum_sodium       sex  \\\n",
       "age                       -0.065962          0.310904     -0.088210  0.072223   \n",
       "anaemia                   -0.029020          0.004078      0.091725 -0.094171   \n",
       "creatinine_phosphokinase  -0.009342         -0.083664      0.045650  0.067905   \n",
       "diabetes                   0.098812         -0.005887     -0.053955 -0.152188   \n",
       "ejection_fraction          0.068361         -0.112588      0.213325 -0.168065   \n",
       "high_blood_pressure        0.074440         -0.031950      0.037836 -0.095732   \n",
       "platelets                  1.000000         -0.036757      0.033818 -0.131081   \n",
       "serum_creatinine          -0.036757          1.000000     -0.287952  0.047299   \n",
       "serum_sodium               0.033818         -0.287952      1.000000 -0.066821   \n",
       "sex                       -0.131081          0.047299     -0.066821  1.000000   \n",
       "smoking                    0.008817         -0.080401     -0.000678  0.466813   \n",
       "time                      -0.020359         -0.184214      0.108335  0.022930   \n",
       "\n",
       "                           smoking      time  \n",
       "age                       0.012831 -0.267518  \n",
       "anaemia                  -0.028742 -0.175146  \n",
       "creatinine_phosphokinase  0.007917  0.093855  \n",
       "diabetes                 -0.147242  0.045524  \n",
       "ejection_fraction        -0.050210  0.081183  \n",
       "high_blood_pressure      -0.012418 -0.205100  \n",
       "platelets                 0.008817 -0.020359  \n",
       "serum_creatinine         -0.080401 -0.184214  \n",
       "serum_sodium             -0.000678  0.108335  \n",
       "sex                       0.466813  0.022930  \n",
       "smoking                   1.000000  0.015443  \n",
       "time                      0.015443  1.000000  "
      ]
     },
     "execution_count": 34,
     "metadata": {},
     "output_type": "execute_result"
    }
   ],
   "source": [
    "# summarize correlation between features\n",
    "X_train_cor"
   ]
  },
  {
   "cell_type": "markdown",
   "metadata": {},
   "source": [
    "There are no features that are correlated with each other. Therefore no feature removal needed."
   ]
  },
  {
   "cell_type": "markdown",
   "metadata": {},
   "source": [
    "## V.VI. Feature Scaling"
   ]
  },
  {
   "cell_type": "code",
   "execution_count": 35,
   "metadata": {},
   "outputs": [],
   "source": [
    "# get numerical columns from training set and test set\n",
    "X_train_num = X_train_2[num_columns]\n",
    "X_test_num = X_test[num_columns]"
   ]
  },
  {
   "cell_type": "code",
   "execution_count": 36,
   "metadata": {},
   "outputs": [],
   "source": [
    "# Define scaler\n",
    "scaler = MinMaxScaler()\n",
    "\n",
    "scaler.fit(X_train_num)\n",
    "\n",
    "X_train_scaled = scaler.transform(X_train_num)\n",
    "X_test_scaled = scaler.transform(X_test_num)"
   ]
  },
  {
   "cell_type": "code",
   "execution_count": 37,
   "metadata": {},
   "outputs": [
    {
     "data": {
      "text/plain": [
       "array([[0.54545455, 0.44836575, 0.48598131, ..., 1.        , 0.49049132,\n",
       "        0.87544484],\n",
       "       [0.6       , 0.44836575, 0.39252336, ..., 0.48484848, 0.40557321,\n",
       "        0.6797153 ],\n",
       "       [0.85454545, 0.10106276, 0.44859813, ..., 0.24242424, 0.66032755,\n",
       "        0.03558719],\n",
       "       ...,\n",
       "       [0.45454545, 0.55905354, 0.48598131, ..., 0.3030303 , 0.49049132,\n",
       "        0.73309609],\n",
       "       [0.54545455, 0.44836575, 0.44859813, ..., 0.36363636, 0.66032755,\n",
       "        0.86120996],\n",
       "       [0.36363636, 0.44836575, 0.29906542, ..., 0.24242424, 0.87262283,\n",
       "        0.32384342]])"
      ]
     },
     "execution_count": 37,
     "metadata": {},
     "output_type": "execute_result"
    }
   ],
   "source": [
    "# Summarize scaled data\n",
    "X_train_scaled"
   ]
  },
  {
   "cell_type": "code",
   "execution_count": 38,
   "metadata": {},
   "outputs": [
    {
     "data": {
      "text/html": [
       "<div>\n",
       "<style scoped>\n",
       "    .dataframe tbody tr th:only-of-type {\n",
       "        vertical-align: middle;\n",
       "    }\n",
       "\n",
       "    .dataframe tbody tr th {\n",
       "        vertical-align: top;\n",
       "    }\n",
       "\n",
       "    .dataframe thead th {\n",
       "        text-align: right;\n",
       "    }\n",
       "</style>\n",
       "<table border=\"1\" class=\"dataframe\">\n",
       "  <thead>\n",
       "    <tr style=\"text-align: right;\">\n",
       "      <th></th>\n",
       "      <th>age</th>\n",
       "      <th>creatinine_phosphokinase</th>\n",
       "      <th>ejection_fraction</th>\n",
       "      <th>platelets</th>\n",
       "      <th>serum_creatinine</th>\n",
       "      <th>serum_sodium</th>\n",
       "      <th>time</th>\n",
       "    </tr>\n",
       "  </thead>\n",
       "  <tbody>\n",
       "    <tr>\n",
       "      <th>0</th>\n",
       "      <td>0.545455</td>\n",
       "      <td>0.448366</td>\n",
       "      <td>0.485981</td>\n",
       "      <td>0.000000</td>\n",
       "      <td>1.000000</td>\n",
       "      <td>0.490491</td>\n",
       "      <td>0.875445</td>\n",
       "    </tr>\n",
       "    <tr>\n",
       "      <th>1</th>\n",
       "      <td>0.600000</td>\n",
       "      <td>0.448366</td>\n",
       "      <td>0.392523</td>\n",
       "      <td>0.340084</td>\n",
       "      <td>0.484848</td>\n",
       "      <td>0.405573</td>\n",
       "      <td>0.679715</td>\n",
       "    </tr>\n",
       "    <tr>\n",
       "      <th>2</th>\n",
       "      <td>0.854545</td>\n",
       "      <td>0.101063</td>\n",
       "      <td>0.448598</td>\n",
       "      <td>0.504888</td>\n",
       "      <td>0.242424</td>\n",
       "      <td>0.660328</td>\n",
       "      <td>0.035587</td>\n",
       "    </tr>\n",
       "    <tr>\n",
       "      <th>3</th>\n",
       "      <td>0.272727</td>\n",
       "      <td>0.029677</td>\n",
       "      <td>0.392523</td>\n",
       "      <td>0.409916</td>\n",
       "      <td>0.424242</td>\n",
       "      <td>0.448032</td>\n",
       "      <td>0.306050</td>\n",
       "    </tr>\n",
       "    <tr>\n",
       "      <th>4</th>\n",
       "      <td>0.418182</td>\n",
       "      <td>0.136355</td>\n",
       "      <td>0.859813</td>\n",
       "      <td>0.597067</td>\n",
       "      <td>0.484848</td>\n",
       "      <td>0.872623</td>\n",
       "      <td>0.366548</td>\n",
       "    </tr>\n",
       "  </tbody>\n",
       "</table>\n",
       "</div>"
      ],
      "text/plain": [
       "        age  creatinine_phosphokinase  ejection_fraction  platelets  \\\n",
       "0  0.545455                  0.448366           0.485981   0.000000   \n",
       "1  0.600000                  0.448366           0.392523   0.340084   \n",
       "2  0.854545                  0.101063           0.448598   0.504888   \n",
       "3  0.272727                  0.029677           0.392523   0.409916   \n",
       "4  0.418182                  0.136355           0.859813   0.597067   \n",
       "\n",
       "   serum_creatinine  serum_sodium      time  \n",
       "0          1.000000      0.490491  0.875445  \n",
       "1          0.484848      0.405573  0.679715  \n",
       "2          0.242424      0.660328  0.035587  \n",
       "3          0.424242      0.448032  0.306050  \n",
       "4          0.484848      0.872623  0.366548  "
      ]
     },
     "execution_count": 38,
     "metadata": {},
     "output_type": "execute_result"
    }
   ],
   "source": [
    "# Create dataframe for X numeric features\n",
    "X_train_3 = pd.DataFrame(X_train_scaled, columns=num_columns)\n",
    "X_test_2 = pd.DataFrame(X_test_scaled, columns=num_columns)\n",
    "\n",
    "X_train_3.head(5)"
   ]
  },
  {
   "cell_type": "code",
   "execution_count": 39,
   "metadata": {},
   "outputs": [
    {
     "data": {
      "text/html": [
       "<div>\n",
       "<style scoped>\n",
       "    .dataframe tbody tr th:only-of-type {\n",
       "        vertical-align: middle;\n",
       "    }\n",
       "\n",
       "    .dataframe tbody tr th {\n",
       "        vertical-align: top;\n",
       "    }\n",
       "\n",
       "    .dataframe thead th {\n",
       "        text-align: right;\n",
       "    }\n",
       "</style>\n",
       "<table border=\"1\" class=\"dataframe\">\n",
       "  <thead>\n",
       "    <tr style=\"text-align: right;\">\n",
       "      <th></th>\n",
       "      <th>anaemia</th>\n",
       "      <th>diabetes</th>\n",
       "      <th>high_blood_pressure</th>\n",
       "      <th>sex</th>\n",
       "      <th>smoking</th>\n",
       "    </tr>\n",
       "  </thead>\n",
       "  <tbody>\n",
       "    <tr>\n",
       "      <th>0</th>\n",
       "      <td>0</td>\n",
       "      <td>0</td>\n",
       "      <td>0</td>\n",
       "      <td>1</td>\n",
       "      <td>1</td>\n",
       "    </tr>\n",
       "    <tr>\n",
       "      <th>1</th>\n",
       "      <td>0</td>\n",
       "      <td>0</td>\n",
       "      <td>1</td>\n",
       "      <td>1</td>\n",
       "      <td>0</td>\n",
       "    </tr>\n",
       "    <tr>\n",
       "      <th>2</th>\n",
       "      <td>1</td>\n",
       "      <td>0</td>\n",
       "      <td>0</td>\n",
       "      <td>1</td>\n",
       "      <td>0</td>\n",
       "    </tr>\n",
       "    <tr>\n",
       "      <th>3</th>\n",
       "      <td>0</td>\n",
       "      <td>0</td>\n",
       "      <td>0</td>\n",
       "      <td>1</td>\n",
       "      <td>1</td>\n",
       "    </tr>\n",
       "    <tr>\n",
       "      <th>4</th>\n",
       "      <td>0</td>\n",
       "      <td>0</td>\n",
       "      <td>1</td>\n",
       "      <td>1</td>\n",
       "      <td>1</td>\n",
       "    </tr>\n",
       "    <tr>\n",
       "      <th>...</th>\n",
       "      <td>...</td>\n",
       "      <td>...</td>\n",
       "      <td>...</td>\n",
       "      <td>...</td>\n",
       "      <td>...</td>\n",
       "    </tr>\n",
       "    <tr>\n",
       "      <th>222</th>\n",
       "      <td>1</td>\n",
       "      <td>0</td>\n",
       "      <td>0</td>\n",
       "      <td>1</td>\n",
       "      <td>0</td>\n",
       "    </tr>\n",
       "    <tr>\n",
       "      <th>223</th>\n",
       "      <td>0</td>\n",
       "      <td>1</td>\n",
       "      <td>0</td>\n",
       "      <td>1</td>\n",
       "      <td>0</td>\n",
       "    </tr>\n",
       "    <tr>\n",
       "      <th>224</th>\n",
       "      <td>1</td>\n",
       "      <td>1</td>\n",
       "      <td>0</td>\n",
       "      <td>0</td>\n",
       "      <td>0</td>\n",
       "    </tr>\n",
       "    <tr>\n",
       "      <th>225</th>\n",
       "      <td>0</td>\n",
       "      <td>1</td>\n",
       "      <td>0</td>\n",
       "      <td>1</td>\n",
       "      <td>0</td>\n",
       "    </tr>\n",
       "    <tr>\n",
       "      <th>226</th>\n",
       "      <td>1</td>\n",
       "      <td>0</td>\n",
       "      <td>1</td>\n",
       "      <td>0</td>\n",
       "      <td>0</td>\n",
       "    </tr>\n",
       "  </tbody>\n",
       "</table>\n",
       "<p>227 rows × 5 columns</p>\n",
       "</div>"
      ],
      "text/plain": [
       "     anaemia  diabetes  high_blood_pressure  sex  smoking\n",
       "0          0         0                    0    1        1\n",
       "1          0         0                    1    1        0\n",
       "2          1         0                    0    1        0\n",
       "3          0         0                    0    1        1\n",
       "4          0         0                    1    1        1\n",
       "..       ...       ...                  ...  ...      ...\n",
       "222        1         0                    0    1        0\n",
       "223        0         1                    0    1        0\n",
       "224        1         1                    0    0        0\n",
       "225        0         1                    0    1        0\n",
       "226        1         0                    1    0        0\n",
       "\n",
       "[227 rows x 5 columns]"
      ]
     },
     "execution_count": 39,
     "metadata": {},
     "output_type": "execute_result"
    }
   ],
   "source": [
    "# resetting index on categorical features\n",
    "X_train_cat = X_train_2[cat_columns].reset_index(drop=True)\n",
    "X_test_cat = X_test[cat_columns].reset_index(drop=True)\n",
    "\n",
    "\n",
    "X_train_cat"
   ]
  },
  {
   "cell_type": "code",
   "execution_count": 40,
   "metadata": {},
   "outputs": [],
   "source": [
    "# Join categorical and numerical features together\n",
    "X_train_cleaned = X_train_3.join(X_train_cat)\n",
    "X_test_cleaned = X_test_2.join(X_test_cat)"
   ]
  },
  {
   "cell_type": "markdown",
   "metadata": {},
   "source": [
    "# VI. Modelling"
   ]
  },
  {
   "cell_type": "markdown",
   "metadata": {},
   "source": [
    "## VI.I Modelling for Gradient Boost"
   ]
  },
  {
   "cell_type": "code",
   "execution_count": 41,
   "metadata": {},
   "outputs": [
    {
     "data": {
      "image/png": "[encoded data removed]",
      "text/plain": [
       "<Figure size 1008x504 with 1 Axes>"
      ]
     },
     "metadata": {},
     "output_type": "display_data"
    }
   ],
   "source": [
    "n_estimat = [10, 13, 25, 32, 48, 64, 100]\n",
    "f1_train,f1_test=[],[]\n",
    "for i in n_estimat :\n",
    "  tree = GradientBoostingClassifier(n_estimators=i)\n",
    "\n",
    "  tree.fit(X_train_cleaned,y_train)\n",
    "  y_train_pred = tree.predict(X_train_cleaned)\n",
    "  y_test_pred = tree.predict(X_test_cleaned)\n",
    "\n",
    "  f1_train.append(f1_score(y_train,y_train_pred))\n",
    "  f1_test.append(f1_score(y_test,y_test_pred))\n",
    "\n",
    "sns.set()\n",
    "plt.figure(figsize=(14,7))\n",
    "sns.lineplot(y=f1_train,x=n_estimat, label='Train')\n",
    "sns.lineplot(y=f1_test,x=n_estimat, label='Test')\n",
    "#plt.xticks(ticks=np.arrange(0.00,0.25,0.01))\n",
    "plt.xlim(right=100)\n",
    "#plt.xlim(left=1)\n",
    "plt.show()"
   ]
  },
  {
   "cell_type": "markdown",
   "metadata": {},
   "source": [
    "We're looking for the point where both line are close to each other and have a highest f1 score, n estimators = 10."
   ]
  },
  {
   "cell_type": "code",
   "execution_count": 42,
   "metadata": {},
   "outputs": [
    {
     "data": {
      "image/png": "[encoded data removed]",
      "text/plain": [
       "<Figure size 1008x504 with 1 Axes>"
      ]
     },
     "metadata": {},
     "output_type": "display_data"
    }
   ],
   "source": [
    "min_samples_leav = np.linspace(0.1, 0.5, 10, endpoint=True)\n",
    "f1_train,f1_test=[],[]\n",
    "for i in min_samples_leav :\n",
    "  tree = GradientBoostingClassifier(min_samples_leaf=i)\n",
    "\n",
    "  tree.fit(X_train_cleaned,y_train)\n",
    "  y_train_pred = tree.predict(X_train_cleaned)\n",
    "  y_test_pred = tree.predict(X_test_cleaned)\n",
    "\n",
    "  f1_train.append(f1_score(y_train,y_train_pred))\n",
    "  f1_test.append(f1_score(y_test,y_test_pred))\n",
    "\n",
    "sns.set()\n",
    "plt.figure(figsize=(14,7))\n",
    "sns.lineplot(y=f1_train,x=min_samples_leav, label='Train')\n",
    "sns.lineplot(y=f1_test,x=min_samples_leav, label='Test')\n",
    "#plt.xticks(ticks=np.arrange(0.00,0.25,0.01))\n",
    "# plt.xlim(right=32)\n",
    "#plt.xlim(left=1)\n",
    "plt.show()"
   ]
  },
  {
   "cell_type": "markdown",
   "metadata": {},
   "source": [
    "We're looking for the point where both line are close to each other and have a highest f1 score, that would be a minimum sample leaf = 0.28."
   ]
  },
  {
   "cell_type": "code",
   "execution_count": 43,
   "metadata": {},
   "outputs": [],
   "source": [
    "# Define model\n",
    "gradient_boost = GradientBoostingClassifier(n_estimators=10, min_samples_leaf=0.28)\n",
    "# training model\n",
    "gradient_boost.fit(X_train_cleaned, y_train)\n",
    "gb_pred = gradient_boost.predict(X_test_cleaned)\n",
    "gb_pred_train = gradient_boost.predict(X_train_cleaned)"
   ]
  },
  {
   "cell_type": "code",
   "execution_count": 44,
   "metadata": {},
   "outputs": [
    {
     "name": "stdout",
     "output_type": "stream",
     "text": [
      "              precision    recall  f1-score   support\n",
      "\n",
      "           0       0.85      0.90      0.87       155\n",
      "           1       0.75      0.67      0.71        72\n",
      "\n",
      "    accuracy                           0.82       227\n",
      "   macro avg       0.80      0.78      0.79       227\n",
      "weighted avg       0.82      0.82      0.82       227\n",
      "\n",
      "              precision    recall  f1-score   support\n",
      "\n",
      "           0       0.86      0.79      0.83        39\n",
      "           1       0.62      0.72      0.67        18\n",
      "\n",
      "    accuracy                           0.77        57\n",
      "   macro avg       0.74      0.76      0.75        57\n",
      "weighted avg       0.78      0.77      0.78        57\n",
      "\n"
     ]
    }
   ],
   "source": [
    "print(classification_report(y_train,gb_pred_train))\n",
    "print(classification_report(y_test,gb_pred))"
   ]
  },
  {
   "cell_type": "markdown",
   "metadata": {},
   "source": [
    "## VI.II Modelling for random forest"
   ]
  },
  {
   "cell_type": "code",
   "execution_count": 45,
   "metadata": {},
   "outputs": [],
   "source": [
    "rand_forest_model = RandomForestClassifier()"
   ]
  },
  {
   "cell_type": "code",
   "execution_count": 46,
   "metadata": {},
   "outputs": [
    {
     "data": {
      "image/png": "[encoded data removed]",
      "text/plain": [
       "<Figure size 1008x504 with 1 Axes>"
      ]
     },
     "metadata": {},
     "output_type": "display_data"
    }
   ],
   "source": [
    "n_estimat = [1, 2, 4, 8, 16, 63, 64, 65, 86, 100]\n",
    "f1_train,f1_test=[],[]\n",
    "for i in n_estimat :\n",
    "  randf = RandomForestClassifier(n_estimators=i)\n",
    "\n",
    "  randf.fit(X_train_cleaned,y_train)\n",
    "  y_train_pred = randf.predict(X_train_cleaned)\n",
    "  y_test_pred = randf.predict(X_test_cleaned)\n",
    "\n",
    "  f1_train.append(f1_score(y_train,y_train_pred))\n",
    "  f1_test.append(f1_score(y_test,y_test_pred))\n",
    "\n",
    "sns.set()\n",
    "plt.figure(figsize=(14,7))\n",
    "sns.lineplot(y=f1_train,x=n_estimat, label='Train')\n",
    "sns.lineplot(y=f1_test,x=n_estimat, label='Test')\n",
    "#plt.xticks(ticks=np.arrange(0.00,0.25,0.01))\n",
    "plt.xlim(right=90)\n",
    "#plt.xlim(left=1)\n",
    "plt.show()"
   ]
  },
  {
   "cell_type": "markdown",
   "metadata": {},
   "source": [
    "We're looking for the point where both line are close to each other and have a highest f1 score, n estimators would be on 63."
   ]
  },
  {
   "cell_type": "code",
   "execution_count": 47,
   "metadata": {},
   "outputs": [
    {
     "data": {
      "image/png": "[encoded data removed]",
      "text/plain": [
       "<Figure size 1008x504 with 1 Axes>"
      ]
     },
     "metadata": {},
     "output_type": "display_data"
    }
   ],
   "source": [
    "max_depth = [10, 15, 16, 18, 20, 31, 35, 45]\n",
    "f1_train,f1_test=[],[]\n",
    "for i in n_estimat :\n",
    "  randf = RandomForestClassifier(max_depth=i)\n",
    "\n",
    "  randf.fit(X_train_cleaned,y_train)\n",
    "  y_train_pred = randf.predict(X_train_cleaned)\n",
    "  y_test_pred = randf.predict(X_test_cleaned)\n",
    "\n",
    "  f1_train.append(f1_score(y_train,y_train_pred))\n",
    "  f1_test.append(f1_score(y_test,y_test_pred))\n",
    "\n",
    "sns.set()\n",
    "plt.figure(figsize=(14,7))\n",
    "sns.lineplot(y=f1_train,x=n_estimat, label='Train')\n",
    "sns.lineplot(y=f1_test,x=n_estimat, label='Test')\n",
    "#plt.xticks(ticks=np.arrange(0.00,0.25,0.01))\n",
    "plt.xlim(left=0, right=50)\n",
    "#plt.xlim(left=1)\n",
    "plt.show()"
   ]
  },
  {
   "cell_type": "markdown",
   "metadata": {},
   "source": [
    "We're looking for the point where both line are close to each other and have a highest f1 score, max_depth would be on 45."
   ]
  },
  {
   "cell_type": "code",
   "execution_count": 48,
   "metadata": {},
   "outputs": [
    {
     "name": "stdout",
     "output_type": "stream",
     "text": [
      "              precision    recall  f1-score   support\n",
      "\n",
      "           0       1.00      1.00      1.00       155\n",
      "           1       1.00      1.00      1.00        72\n",
      "\n",
      "    accuracy                           1.00       227\n",
      "   macro avg       1.00      1.00      1.00       227\n",
      "weighted avg       1.00      1.00      1.00       227\n",
      "\n",
      "              precision    recall  f1-score   support\n",
      "\n",
      "           0       0.92      0.90      0.91        39\n",
      "           1       0.79      0.83      0.81        18\n",
      "\n",
      "    accuracy                           0.88        57\n",
      "   macro avg       0.86      0.87      0.86        57\n",
      "weighted avg       0.88      0.88      0.88        57\n",
      "\n"
     ]
    }
   ],
   "source": [
    "rand_forest_model = RandomForestClassifier(n_estimators=63, max_depth=45)\n",
    "rand_forest_model.fit(X_train_cleaned,y_train)\n",
    "y_train_pred = rand_forest_model.predict(X_train_cleaned)\n",
    "y_test_pred = rand_forest_model.predict(X_test_cleaned)\n",
    "\n",
    "print(classification_report(y_train,y_train_pred))\n",
    "print(classification_report(y_test,y_test_pred))"
   ]
  },
  {
   "cell_type": "markdown",
   "metadata": {},
   "source": [
    "### Analysis\n",
    "\n",
    "Before we start modelling, we use iteration to see which hyperparameters are best to use. hyperparameter is a parameter whose value is used to control the learning process. By contrast, the values of other parameters (typically node weights) are derived via training. we're using f1 score to measures how good the prediction. F1 score is a metric to measures accuracies for clasiffications, highest score is 1.\n",
    "\n",
    "for the gradient boost model the f1 score for training is 0.71 and for the test set is 0.67, there's a slight overfit (means,  statistical model is said to be overfitted when the model does not make accurate predictions on testing data), but thats good enogh. the score itself is 'ok' or acceptable.\n",
    "\n",
    "for the Random forest model the f1 score for training is 1 and for the test set is 0.81, there's a moderate overfit, but since the score for the test set is good, we can be cautiously accept it.\n",
    "\n",
    "The random forest model performs better compared to gradient boost. That said, gradient boost modlling on the test set is better fit than random forest."
   ]
  },
  {
   "cell_type": "markdown",
   "metadata": {},
   "source": [
    "# VII. Model Saving"
   ]
  },
  {
   "cell_type": "code",
   "execution_count": 49,
   "metadata": {},
   "outputs": [],
   "source": [
    "# save model\n",
    "with open('gradient_boost.pkl', 'wb') as file_1:\n",
    "  joblib.dump(gradient_boost, file_1)\n",
    "\n",
    "with open('model_scaler.pkl', 'wb') as file_2:\n",
    "  joblib.dump(scaler, file_2)\n",
    "\n",
    "with open('rand_forest_model.pkl', 'wb') as file_3:\n",
    "  joblib.dump(rand_forest_model, file_3)\n",
    "\n",
    "with open('list_num.txt', 'w') as file_4:\n",
    "  json.dump(num_columns, file_4)\n",
    "\n",
    "with open('list_cat.txt', 'w') as file_5:\n",
    "  json.dump(cat_columns, file_5)"
   ]
  },
  {
   "cell_type": "markdown",
   "metadata": {},
   "source": [
    "# VIII. Model Inference"
   ]
  },
  {
   "cell_type": "code",
   "execution_count": 50,
   "metadata": {},
   "outputs": [],
   "source": [
    "# save model\n",
    "with open('gradient_boost.pkl', 'rb') as file_1:\n",
    "  model_gradient_boost = joblib.load(file_1)\n",
    "\n",
    "with open('model_scaler.pkl', 'rb') as file_2:\n",
    "  model_scaler = joblib.load(file_2)\n",
    "\n",
    "with open('rand_forest_model.pkl', 'rb') as file_3:\n",
    "  model_rand_forest = joblib.load(file_3)\n",
    "\n",
    "with open('list_num.txt', 'r') as file_4:\n",
    "  list_num_cols = json.load(file_4)\n",
    "\n",
    "with open('list_cat.txt', 'r') as file_5:\n",
    "  list_cat_cols = json.load(file_5)"
   ]
  },
  {
   "cell_type": "code",
   "execution_count": 51,
   "metadata": {},
   "outputs": [
    {
     "data": {
      "text/html": [
       "<div>\n",
       "<style scoped>\n",
       "    .dataframe tbody tr th:only-of-type {\n",
       "        vertical-align: middle;\n",
       "    }\n",
       "\n",
       "    .dataframe tbody tr th {\n",
       "        vertical-align: top;\n",
       "    }\n",
       "\n",
       "    .dataframe thead th {\n",
       "        text-align: right;\n",
       "    }\n",
       "</style>\n",
       "<table border=\"1\" class=\"dataframe\">\n",
       "  <thead>\n",
       "    <tr style=\"text-align: right;\">\n",
       "      <th></th>\n",
       "      <th>age</th>\n",
       "      <th>anaemia</th>\n",
       "      <th>creatinine_phosphokinase</th>\n",
       "      <th>diabetes</th>\n",
       "      <th>ejection_fraction</th>\n",
       "      <th>high_blood_pressure</th>\n",
       "      <th>platelets</th>\n",
       "      <th>serum_creatinine</th>\n",
       "      <th>serum_sodium</th>\n",
       "      <th>sex</th>\n",
       "      <th>smoking</th>\n",
       "      <th>time</th>\n",
       "      <th>DEATH_EVENT</th>\n",
       "    </tr>\n",
       "  </thead>\n",
       "  <tbody>\n",
       "    <tr>\n",
       "      <th>287</th>\n",
       "      <td>53.0</td>\n",
       "      <td>1</td>\n",
       "      <td>1808</td>\n",
       "      <td>0</td>\n",
       "      <td>60</td>\n",
       "      <td>1</td>\n",
       "      <td>249000.0</td>\n",
       "      <td>0.7</td>\n",
       "      <td>138</td>\n",
       "      <td>1</td>\n",
       "      <td>1</td>\n",
       "      <td>106</td>\n",
       "      <td>0</td>\n",
       "    </tr>\n",
       "    <tr>\n",
       "      <th>296</th>\n",
       "      <td>70.0</td>\n",
       "      <td>0</td>\n",
       "      <td>97</td>\n",
       "      <td>0</td>\n",
       "      <td>60</td>\n",
       "      <td>1</td>\n",
       "      <td>220000.0</td>\n",
       "      <td>0.9</td>\n",
       "      <td>138</td>\n",
       "      <td>1</td>\n",
       "      <td>0</td>\n",
       "      <td>186</td>\n",
       "      <td>0</td>\n",
       "    </tr>\n",
       "    <tr>\n",
       "      <th>110</th>\n",
       "      <td>50.0</td>\n",
       "      <td>1</td>\n",
       "      <td>111</td>\n",
       "      <td>0</td>\n",
       "      <td>20</td>\n",
       "      <td>0</td>\n",
       "      <td>210000.0</td>\n",
       "      <td>1.9</td>\n",
       "      <td>137</td>\n",
       "      <td>1</td>\n",
       "      <td>0</td>\n",
       "      <td>7</td>\n",
       "      <td>1</td>\n",
       "    </tr>\n",
       "    <tr>\n",
       "      <th>268</th>\n",
       "      <td>65.0</td>\n",
       "      <td>0</td>\n",
       "      <td>94</td>\n",
       "      <td>1</td>\n",
       "      <td>50</td>\n",
       "      <td>1</td>\n",
       "      <td>188000.0</td>\n",
       "      <td>1.0</td>\n",
       "      <td>140</td>\n",
       "      <td>1</td>\n",
       "      <td>0</td>\n",
       "      <td>29</td>\n",
       "      <td>1</td>\n",
       "    </tr>\n",
       "    <tr>\n",
       "      <th>169</th>\n",
       "      <td>42.0</td>\n",
       "      <td>0</td>\n",
       "      <td>64</td>\n",
       "      <td>0</td>\n",
       "      <td>30</td>\n",
       "      <td>0</td>\n",
       "      <td>215000.0</td>\n",
       "      <td>3.8</td>\n",
       "      <td>128</td>\n",
       "      <td>1</td>\n",
       "      <td>1</td>\n",
       "      <td>250</td>\n",
       "      <td>0</td>\n",
       "    </tr>\n",
       "  </tbody>\n",
       "</table>\n",
       "</div>"
      ],
      "text/plain": [
       "      age  anaemia  creatinine_phosphokinase  diabetes  ejection_fraction  \\\n",
       "287  53.0        1                      1808         0                 60   \n",
       "296  70.0        0                        97         0                 60   \n",
       "110  50.0        1                       111         0                 20   \n",
       "268  65.0        0                        94         1                 50   \n",
       "169  42.0        0                        64         0                 30   \n",
       "\n",
       "     high_blood_pressure  platelets  serum_creatinine  serum_sodium  sex  \\\n",
       "287                    1   249000.0               0.7           138    1   \n",
       "296                    1   220000.0               0.9           138    1   \n",
       "110                    0   210000.0               1.9           137    1   \n",
       "268                    1   188000.0               1.0           140    1   \n",
       "169                    0   215000.0               3.8           128    1   \n",
       "\n",
       "     smoking  time  DEATH_EVENT  \n",
       "287        1   106            0  \n",
       "296        0   186            0  \n",
       "110        0     7            1  \n",
       "268        0    29            1  \n",
       "169        1   250            0  "
      ]
     },
     "execution_count": 51,
     "metadata": {},
     "output_type": "execute_result"
    }
   ],
   "source": [
    "# display inference-set\n",
    "data_inf.sample(5)"
   ]
  },
  {
   "cell_type": "code",
   "execution_count": 52,
   "metadata": {},
   "outputs": [
    {
     "data": {
      "text/html": [
       "<div>\n",
       "<style scoped>\n",
       "    .dataframe tbody tr th:only-of-type {\n",
       "        vertical-align: middle;\n",
       "    }\n",
       "\n",
       "    .dataframe tbody tr th {\n",
       "        vertical-align: top;\n",
       "    }\n",
       "\n",
       "    .dataframe thead th {\n",
       "        text-align: right;\n",
       "    }\n",
       "</style>\n",
       "<table border=\"1\" class=\"dataframe\">\n",
       "  <thead>\n",
       "    <tr style=\"text-align: right;\">\n",
       "      <th></th>\n",
       "      <th>age</th>\n",
       "      <th>creatinine_phosphokinase</th>\n",
       "      <th>ejection_fraction</th>\n",
       "      <th>platelets</th>\n",
       "      <th>serum_creatinine</th>\n",
       "      <th>serum_sodium</th>\n",
       "      <th>time</th>\n",
       "    </tr>\n",
       "  </thead>\n",
       "  <tbody>\n",
       "    <tr>\n",
       "      <th>198</th>\n",
       "      <td>40.0</td>\n",
       "      <td>90</td>\n",
       "      <td>35</td>\n",
       "      <td>255000.00</td>\n",
       "      <td>1.10</td>\n",
       "      <td>136</td>\n",
       "      <td>212</td>\n",
       "    </tr>\n",
       "    <tr>\n",
       "      <th>272</th>\n",
       "      <td>67.0</td>\n",
       "      <td>582</td>\n",
       "      <td>50</td>\n",
       "      <td>263358.03</td>\n",
       "      <td>1.18</td>\n",
       "      <td>137</td>\n",
       "      <td>76</td>\n",
       "    </tr>\n",
       "    <tr>\n",
       "      <th>268</th>\n",
       "      <td>65.0</td>\n",
       "      <td>94</td>\n",
       "      <td>50</td>\n",
       "      <td>188000.00</td>\n",
       "      <td>1.00</td>\n",
       "      <td>140</td>\n",
       "      <td>29</td>\n",
       "    </tr>\n",
       "    <tr>\n",
       "      <th>238</th>\n",
       "      <td>66.0</td>\n",
       "      <td>72</td>\n",
       "      <td>40</td>\n",
       "      <td>242000.00</td>\n",
       "      <td>1.20</td>\n",
       "      <td>134</td>\n",
       "      <td>121</td>\n",
       "    </tr>\n",
       "    <tr>\n",
       "      <th>56</th>\n",
       "      <td>55.0</td>\n",
       "      <td>1820</td>\n",
       "      <td>38</td>\n",
       "      <td>270000.00</td>\n",
       "      <td>1.20</td>\n",
       "      <td>139</td>\n",
       "      <td>271</td>\n",
       "    </tr>\n",
       "    <tr>\n",
       "      <th>11</th>\n",
       "      <td>60.0</td>\n",
       "      <td>1896</td>\n",
       "      <td>25</td>\n",
       "      <td>365000.00</td>\n",
       "      <td>2.10</td>\n",
       "      <td>144</td>\n",
       "      <td>172</td>\n",
       "    </tr>\n",
       "    <tr>\n",
       "      <th>205</th>\n",
       "      <td>55.0</td>\n",
       "      <td>7861</td>\n",
       "      <td>38</td>\n",
       "      <td>263358.03</td>\n",
       "      <td>1.10</td>\n",
       "      <td>136</td>\n",
       "      <td>6</td>\n",
       "    </tr>\n",
       "    <tr>\n",
       "      <th>296</th>\n",
       "      <td>70.0</td>\n",
       "      <td>97</td>\n",
       "      <td>60</td>\n",
       "      <td>220000.00</td>\n",
       "      <td>0.90</td>\n",
       "      <td>138</td>\n",
       "      <td>186</td>\n",
       "    </tr>\n",
       "    <tr>\n",
       "      <th>287</th>\n",
       "      <td>53.0</td>\n",
       "      <td>1808</td>\n",
       "      <td>60</td>\n",
       "      <td>249000.00</td>\n",
       "      <td>0.70</td>\n",
       "      <td>138</td>\n",
       "      <td>106</td>\n",
       "    </tr>\n",
       "    <tr>\n",
       "      <th>69</th>\n",
       "      <td>73.0</td>\n",
       "      <td>1185</td>\n",
       "      <td>40</td>\n",
       "      <td>220000.00</td>\n",
       "      <td>0.90</td>\n",
       "      <td>141</td>\n",
       "      <td>213</td>\n",
       "    </tr>\n",
       "    <tr>\n",
       "      <th>262</th>\n",
       "      <td>63.0</td>\n",
       "      <td>1767</td>\n",
       "      <td>45</td>\n",
       "      <td>73000.00</td>\n",
       "      <td>0.70</td>\n",
       "      <td>137</td>\n",
       "      <td>186</td>\n",
       "    </tr>\n",
       "    <tr>\n",
       "      <th>151</th>\n",
       "      <td>82.0</td>\n",
       "      <td>70</td>\n",
       "      <td>30</td>\n",
       "      <td>200000.00</td>\n",
       "      <td>1.20</td>\n",
       "      <td>132</td>\n",
       "      <td>26</td>\n",
       "    </tr>\n",
       "    <tr>\n",
       "      <th>169</th>\n",
       "      <td>42.0</td>\n",
       "      <td>64</td>\n",
       "      <td>30</td>\n",
       "      <td>215000.00</td>\n",
       "      <td>3.80</td>\n",
       "      <td>128</td>\n",
       "      <td>250</td>\n",
       "    </tr>\n",
       "    <tr>\n",
       "      <th>140</th>\n",
       "      <td>65.0</td>\n",
       "      <td>395</td>\n",
       "      <td>25</td>\n",
       "      <td>265000.00</td>\n",
       "      <td>1.20</td>\n",
       "      <td>136</td>\n",
       "      <td>154</td>\n",
       "    </tr>\n",
       "    <tr>\n",
       "      <th>110</th>\n",
       "      <td>50.0</td>\n",
       "      <td>111</td>\n",
       "      <td>20</td>\n",
       "      <td>210000.00</td>\n",
       "      <td>1.90</td>\n",
       "      <td>137</td>\n",
       "      <td>7</td>\n",
       "    </tr>\n",
       "  </tbody>\n",
       "</table>\n",
       "</div>"
      ],
      "text/plain": [
       "      age  creatinine_phosphokinase  ejection_fraction  platelets  \\\n",
       "198  40.0                        90                 35  255000.00   \n",
       "272  67.0                       582                 50  263358.03   \n",
       "268  65.0                        94                 50  188000.00   \n",
       "238  66.0                        72                 40  242000.00   \n",
       "56   55.0                      1820                 38  270000.00   \n",
       "11   60.0                      1896                 25  365000.00   \n",
       "205  55.0                      7861                 38  263358.03   \n",
       "296  70.0                        97                 60  220000.00   \n",
       "287  53.0                      1808                 60  249000.00   \n",
       "69   73.0                      1185                 40  220000.00   \n",
       "262  63.0                      1767                 45   73000.00   \n",
       "151  82.0                        70                 30  200000.00   \n",
       "169  42.0                        64                 30  215000.00   \n",
       "140  65.0                       395                 25  265000.00   \n",
       "110  50.0                       111                 20  210000.00   \n",
       "\n",
       "     serum_creatinine  serum_sodium  time  \n",
       "198              1.10           136   212  \n",
       "272              1.18           137    76  \n",
       "268              1.00           140    29  \n",
       "238              1.20           134   121  \n",
       "56               1.20           139   271  \n",
       "11               2.10           144   172  \n",
       "205              1.10           136     6  \n",
       "296              0.90           138   186  \n",
       "287              0.70           138   106  \n",
       "69               0.90           141   213  \n",
       "262              0.70           137   186  \n",
       "151              1.20           132    26  \n",
       "169              3.80           128   250  \n",
       "140              1.20           136   154  \n",
       "110              1.90           137     7  "
      ]
     },
     "execution_count": 52,
     "metadata": {},
     "output_type": "execute_result"
    }
   ],
   "source": [
    "# split between numerical columns and categorical columns\n",
    "data_inf_num = data_inf[list_num_cols]\n",
    "data_inf_cat = data_inf[list_cat_cols]\n",
    "\n",
    "data_inf_num"
   ]
  },
  {
   "cell_type": "code",
   "execution_count": 53,
   "metadata": {},
   "outputs": [
    {
     "data": {
      "text/plain": [
       "array([[ 0.        ,  0.05373972,  0.39252336,  0.4853352 ,  0.36363636,\n",
       "         0.49049132,  0.74021352],\n",
       "       [ 0.49090909,  0.44836575,  0.6728972 ,  0.50868165,  0.41212121,\n",
       "         0.53295038,  0.25622776],\n",
       "       [ 0.45454545,  0.05694806,  0.6728972 ,  0.29818436,  0.3030303 ,\n",
       "         0.66032755,  0.08896797],\n",
       "       [ 0.47272727,  0.03930219,  0.48598131,  0.44902235,  0.42424242,\n",
       "         0.40557321,  0.41637011],\n",
       "       [ 0.27272727,  1.4413475 ,  0.44859813,  0.52723464,  0.42424242,\n",
       "         0.61786849,  0.95017794],\n",
       "       [ 0.36363636,  1.502306  ,  0.20560748,  0.79259777,  0.96969697,\n",
       "         0.83016377,  0.59786477],\n",
       "       [ 0.27272727,  6.28674554,  0.44859813,  0.50868165,  0.36363636,\n",
       "         0.49049132,  0.00711744],\n",
       "       [ 0.54545455,  0.05935432,  0.85981308,  0.38756983,  0.24242424,\n",
       "         0.57540943,  0.64768683],\n",
       "       [ 0.23636364,  1.43172248,  0.85981308,  0.46857542,  0.12121212,\n",
       "         0.57540943,  0.36298932],\n",
       "       [ 0.6       ,  0.93202326,  0.48598131,  0.38756983,  0.24242424,\n",
       "         0.7027866 ,  0.74377224],\n",
       "       [ 0.41818182,  1.39883698,  0.57943925, -0.02304469,  0.12121212,\n",
       "         0.53295038,  0.64768683],\n",
       "       [ 0.76363636,  0.03769801,  0.29906542,  0.33170391,  0.42424242,\n",
       "         0.3206551 ,  0.07829181],\n",
       "       [ 0.03636364,  0.0328855 ,  0.29906542,  0.37360335,  2.        ,\n",
       "         0.15081887,  0.87544484],\n",
       "       [ 0.45454545,  0.29837578,  0.20560748,  0.51326816,  0.42424242,\n",
       "         0.49049132,  0.53380783],\n",
       "       [ 0.18181818,  0.07058352,  0.11214953,  0.35963687,  0.84848485,\n",
       "         0.53295038,  0.01067616]])"
      ]
     },
     "execution_count": 53,
     "metadata": {},
     "output_type": "execute_result"
    }
   ],
   "source": [
    "# feature sfcaling\n",
    "\n",
    "data_inf_num_scaled = model_scaler.transform(data_inf_num)\n",
    "\n",
    "data_inf_num_scaled"
   ]
  },
  {
   "cell_type": "code",
   "execution_count": 54,
   "metadata": {},
   "outputs": [
    {
     "data": {
      "text/plain": [
       "array([[ 0.        ,  0.05373972,  0.39252336,  0.4853352 ,  0.36363636,\n",
       "         0.49049132,  0.74021352,  0.        ,  0.        ,  0.        ,\n",
       "         1.        ,  1.        ],\n",
       "       [ 0.49090909,  0.44836575,  0.6728972 ,  0.50868165,  0.41212121,\n",
       "         0.53295038,  0.25622776,  0.        ,  0.        ,  0.        ,\n",
       "         1.        ,  1.        ],\n",
       "       [ 0.45454545,  0.05694806,  0.6728972 ,  0.29818436,  0.3030303 ,\n",
       "         0.66032755,  0.08896797,  0.        ,  1.        ,  1.        ,\n",
       "         1.        ,  0.        ],\n",
       "       [ 0.47272727,  0.03930219,  0.48598131,  0.44902235,  0.42424242,\n",
       "         0.40557321,  0.41637011,  1.        ,  0.        ,  1.        ,\n",
       "         1.        ,  0.        ],\n",
       "       [ 0.27272727,  1.4413475 ,  0.44859813,  0.52723464,  0.42424242,\n",
       "         0.61786849,  0.95017794,  0.        ,  0.        ,  0.        ,\n",
       "         0.        ,  0.        ],\n",
       "       [ 0.36363636,  1.502306  ,  0.20560748,  0.79259777,  0.96969697,\n",
       "         0.83016377,  0.59786477,  0.        ,  1.        ,  0.        ,\n",
       "         0.        ,  0.        ],\n",
       "       [ 0.27272727,  6.28674554,  0.44859813,  0.50868165,  0.36363636,\n",
       "         0.49049132,  0.00711744,  0.        ,  0.        ,  0.        ,\n",
       "         1.        ,  0.        ],\n",
       "       [ 0.54545455,  0.05935432,  0.85981308,  0.38756983,  0.24242424,\n",
       "         0.57540943,  0.64768683,  0.        ,  0.        ,  1.        ,\n",
       "         1.        ,  0.        ],\n",
       "       [ 0.23636364,  1.43172248,  0.85981308,  0.46857542,  0.12121212,\n",
       "         0.57540943,  0.36298932,  1.        ,  0.        ,  1.        ,\n",
       "         1.        ,  1.        ],\n",
       "       [ 0.6       ,  0.93202326,  0.48598131,  0.38756983,  0.24242424,\n",
       "         0.7027866 ,  0.74377224,  1.        ,  0.        ,  1.        ,\n",
       "         0.        ,  0.        ],\n",
       "       [ 0.41818182,  1.39883698,  0.57943925, -0.02304469,  0.12121212,\n",
       "         0.53295038,  0.64768683,  1.        ,  0.        ,  0.        ,\n",
       "         1.        ,  0.        ],\n",
       "       [ 0.76363636,  0.03769801,  0.29906542,  0.33170391,  0.42424242,\n",
       "         0.3206551 ,  0.07829181,  0.        ,  1.        ,  0.        ,\n",
       "         1.        ,  1.        ],\n",
       "       [ 0.03636364,  0.0328855 ,  0.29906542,  0.37360335,  2.        ,\n",
       "         0.15081887,  0.87544484,  0.        ,  0.        ,  0.        ,\n",
       "         1.        ,  1.        ],\n",
       "       [ 0.45454545,  0.29837578,  0.20560748,  0.51326816,  0.42424242,\n",
       "         0.49049132,  0.53380783,  0.        ,  1.        ,  0.        ,\n",
       "         1.        ,  1.        ],\n",
       "       [ 0.18181818,  0.07058352,  0.11214953,  0.35963687,  0.84848485,\n",
       "         0.53295038,  0.01067616,  1.        ,  0.        ,  0.        ,\n",
       "         1.        ,  0.        ]])"
      ]
     },
     "execution_count": 54,
     "metadata": {},
     "output_type": "execute_result"
    }
   ],
   "source": [
    "# concate numerical columns and categorical columns\n",
    "\n",
    "data_inf_final = np.concatenate([data_inf_num_scaled, data_inf_cat], axis=1)\n",
    "data_inf_final"
   ]
  },
  {
   "cell_type": "markdown",
   "metadata": {},
   "source": [
    "## VIII.I Modelling using Gradient boost"
   ]
  },
  {
   "cell_type": "code",
   "execution_count": 55,
   "metadata": {},
   "outputs": [
    {
     "data": {
      "text/plain": [
       "array([0, 1, 1, 0, 0, 0, 1, 0, 0, 0, 0, 1, 0, 0, 1])"
      ]
     },
     "execution_count": 55,
     "metadata": {},
     "output_type": "execute_result"
    }
   ],
   "source": [
    "# predict using gradient_boost\n",
    "y_pred_inf = model_gradient_boost.predict(data_inf_final)\n",
    "y_pred_inf"
   ]
  },
  {
   "cell_type": "code",
   "execution_count": 56,
   "metadata": {},
   "outputs": [
    {
     "data": {
      "text/html": [
       "<div>\n",
       "<style scoped>\n",
       "    .dataframe tbody tr th:only-of-type {\n",
       "        vertical-align: middle;\n",
       "    }\n",
       "\n",
       "    .dataframe tbody tr th {\n",
       "        vertical-align: top;\n",
       "    }\n",
       "\n",
       "    .dataframe thead th {\n",
       "        text-align: right;\n",
       "    }\n",
       "</style>\n",
       "<table border=\"1\" class=\"dataframe\">\n",
       "  <thead>\n",
       "    <tr style=\"text-align: right;\">\n",
       "      <th></th>\n",
       "      <th>overall prediction</th>\n",
       "    </tr>\n",
       "  </thead>\n",
       "  <tbody>\n",
       "    <tr>\n",
       "      <th>0</th>\n",
       "      <td>0</td>\n",
       "    </tr>\n",
       "    <tr>\n",
       "      <th>1</th>\n",
       "      <td>1</td>\n",
       "    </tr>\n",
       "    <tr>\n",
       "      <th>2</th>\n",
       "      <td>1</td>\n",
       "    </tr>\n",
       "    <tr>\n",
       "      <th>3</th>\n",
       "      <td>0</td>\n",
       "    </tr>\n",
       "    <tr>\n",
       "      <th>4</th>\n",
       "      <td>0</td>\n",
       "    </tr>\n",
       "  </tbody>\n",
       "</table>\n",
       "</div>"
      ],
      "text/plain": [
       "   overall prediction\n",
       "0                   0\n",
       "1                   1\n",
       "2                   1\n",
       "3                   0\n",
       "4                   0"
      ]
     },
     "execution_count": 56,
     "metadata": {},
     "output_type": "execute_result"
    }
   ],
   "source": [
    "# create dataframe of rating pred\n",
    "\n",
    "y_pred_inf_df = pd.DataFrame(y_pred_inf, columns=['overall prediction'])\n",
    "y_pred_inf_df.head()"
   ]
  },
  {
   "cell_type": "code",
   "execution_count": 57,
   "metadata": {},
   "outputs": [],
   "source": [
    "# reset index on data_inf\n",
    "data_inf.reset_index(drop=True, inplace=True)"
   ]
  },
  {
   "cell_type": "code",
   "execution_count": 58,
   "metadata": {},
   "outputs": [
    {
     "data": {
      "text/html": [
       "<div>\n",
       "<style scoped>\n",
       "    .dataframe tbody tr th:only-of-type {\n",
       "        vertical-align: middle;\n",
       "    }\n",
       "\n",
       "    .dataframe tbody tr th {\n",
       "        vertical-align: top;\n",
       "    }\n",
       "\n",
       "    .dataframe thead th {\n",
       "        text-align: right;\n",
       "    }\n",
       "</style>\n",
       "<table border=\"1\" class=\"dataframe\">\n",
       "  <thead>\n",
       "    <tr style=\"text-align: right;\">\n",
       "      <th></th>\n",
       "      <th>age</th>\n",
       "      <th>anaemia</th>\n",
       "      <th>creatinine_phosphokinase</th>\n",
       "      <th>diabetes</th>\n",
       "      <th>ejection_fraction</th>\n",
       "      <th>high_blood_pressure</th>\n",
       "      <th>platelets</th>\n",
       "      <th>serum_creatinine</th>\n",
       "      <th>serum_sodium</th>\n",
       "      <th>sex</th>\n",
       "      <th>smoking</th>\n",
       "      <th>time</th>\n",
       "      <th>DEATH_EVENT</th>\n",
       "      <th>overall prediction</th>\n",
       "    </tr>\n",
       "  </thead>\n",
       "  <tbody>\n",
       "    <tr>\n",
       "      <th>8</th>\n",
       "      <td>53.0</td>\n",
       "      <td>1</td>\n",
       "      <td>1808</td>\n",
       "      <td>0</td>\n",
       "      <td>60</td>\n",
       "      <td>1</td>\n",
       "      <td>249000.00</td>\n",
       "      <td>0.70</td>\n",
       "      <td>138</td>\n",
       "      <td>1</td>\n",
       "      <td>1</td>\n",
       "      <td>106</td>\n",
       "      <td>0</td>\n",
       "      <td>0</td>\n",
       "    </tr>\n",
       "    <tr>\n",
       "      <th>9</th>\n",
       "      <td>73.0</td>\n",
       "      <td>1</td>\n",
       "      <td>1185</td>\n",
       "      <td>0</td>\n",
       "      <td>40</td>\n",
       "      <td>1</td>\n",
       "      <td>220000.00</td>\n",
       "      <td>0.90</td>\n",
       "      <td>141</td>\n",
       "      <td>0</td>\n",
       "      <td>0</td>\n",
       "      <td>213</td>\n",
       "      <td>0</td>\n",
       "      <td>0</td>\n",
       "    </tr>\n",
       "    <tr>\n",
       "      <th>1</th>\n",
       "      <td>67.0</td>\n",
       "      <td>0</td>\n",
       "      <td>582</td>\n",
       "      <td>0</td>\n",
       "      <td>50</td>\n",
       "      <td>0</td>\n",
       "      <td>263358.03</td>\n",
       "      <td>1.18</td>\n",
       "      <td>137</td>\n",
       "      <td>1</td>\n",
       "      <td>1</td>\n",
       "      <td>76</td>\n",
       "      <td>0</td>\n",
       "      <td>1</td>\n",
       "    </tr>\n",
       "    <tr>\n",
       "      <th>11</th>\n",
       "      <td>82.0</td>\n",
       "      <td>0</td>\n",
       "      <td>70</td>\n",
       "      <td>1</td>\n",
       "      <td>30</td>\n",
       "      <td>0</td>\n",
       "      <td>200000.00</td>\n",
       "      <td>1.20</td>\n",
       "      <td>132</td>\n",
       "      <td>1</td>\n",
       "      <td>1</td>\n",
       "      <td>26</td>\n",
       "      <td>1</td>\n",
       "      <td>1</td>\n",
       "    </tr>\n",
       "    <tr>\n",
       "      <th>6</th>\n",
       "      <td>55.0</td>\n",
       "      <td>0</td>\n",
       "      <td>7861</td>\n",
       "      <td>0</td>\n",
       "      <td>38</td>\n",
       "      <td>0</td>\n",
       "      <td>263358.03</td>\n",
       "      <td>1.10</td>\n",
       "      <td>136</td>\n",
       "      <td>1</td>\n",
       "      <td>0</td>\n",
       "      <td>6</td>\n",
       "      <td>1</td>\n",
       "      <td>1</td>\n",
       "    </tr>\n",
       "  </tbody>\n",
       "</table>\n",
       "</div>"
      ],
      "text/plain": [
       "     age  anaemia  creatinine_phosphokinase  diabetes  ejection_fraction  \\\n",
       "8   53.0        1                      1808         0                 60   \n",
       "9   73.0        1                      1185         0                 40   \n",
       "1   67.0        0                       582         0                 50   \n",
       "11  82.0        0                        70         1                 30   \n",
       "6   55.0        0                      7861         0                 38   \n",
       "\n",
       "    high_blood_pressure  platelets  serum_creatinine  serum_sodium  sex  \\\n",
       "8                     1  249000.00              0.70           138    1   \n",
       "9                     1  220000.00              0.90           141    0   \n",
       "1                     0  263358.03              1.18           137    1   \n",
       "11                    0  200000.00              1.20           132    1   \n",
       "6                     0  263358.03              1.10           136    1   \n",
       "\n",
       "    smoking  time  DEATH_EVENT  overall prediction  \n",
       "8         1   106            0                   0  \n",
       "9         0   213            0                   0  \n",
       "1         1    76            0                   1  \n",
       "11        1    26            1                   1  \n",
       "6         0     6            1                   1  "
      ]
     },
     "execution_count": 58,
     "metadata": {},
     "output_type": "execute_result"
    }
   ],
   "source": [
    "# concate between inference\n",
    "\n",
    "data_final = pd.concat([data_inf, y_pred_inf_df], axis=1)\n",
    "data_final.sample(5)"
   ]
  },
  {
   "cell_type": "code",
   "execution_count": 59,
   "metadata": {},
   "outputs": [
    {
     "name": "stdout",
     "output_type": "stream",
     "text": [
      "              precision    recall  f1-score   support\n",
      "\n",
      "           0       0.80      0.89      0.84         9\n",
      "           1       0.80      0.67      0.73         6\n",
      "\n",
      "    accuracy                           0.80        15\n",
      "   macro avg       0.80      0.78      0.78        15\n",
      "weighted avg       0.80      0.80      0.80        15\n",
      "\n"
     ]
    }
   ],
   "source": [
    "print(classification_report(data_final['DEATH_EVENT'] ,data_final['overall prediction']))"
   ]
  },
  {
   "cell_type": "markdown",
   "metadata": {},
   "source": [
    "## VIII.II Modelling using Random FOrest"
   ]
  },
  {
   "cell_type": "code",
   "execution_count": 60,
   "metadata": {},
   "outputs": [
    {
     "data": {
      "text/plain": [
       "array([0, 0, 1, 0, 0, 0, 1, 0, 0, 0, 0, 1, 0, 0, 1])"
      ]
     },
     "execution_count": 60,
     "metadata": {},
     "output_type": "execute_result"
    }
   ],
   "source": [
    "# predict using Random Forest\n",
    "y_pred_inf = model_rand_forest.predict(data_inf_final)\n",
    "y_pred_inf"
   ]
  },
  {
   "cell_type": "code",
   "execution_count": 61,
   "metadata": {},
   "outputs": [],
   "source": [
    "# reset index on data_inf\n",
    "data_inf.reset_index(drop=True, inplace=True)"
   ]
  },
  {
   "cell_type": "code",
   "execution_count": 62,
   "metadata": {},
   "outputs": [
    {
     "data": {
      "text/html": [
       "<div>\n",
       "<style scoped>\n",
       "    .dataframe tbody tr th:only-of-type {\n",
       "        vertical-align: middle;\n",
       "    }\n",
       "\n",
       "    .dataframe tbody tr th {\n",
       "        vertical-align: top;\n",
       "    }\n",
       "\n",
       "    .dataframe thead th {\n",
       "        text-align: right;\n",
       "    }\n",
       "</style>\n",
       "<table border=\"1\" class=\"dataframe\">\n",
       "  <thead>\n",
       "    <tr style=\"text-align: right;\">\n",
       "      <th></th>\n",
       "      <th>age</th>\n",
       "      <th>anaemia</th>\n",
       "      <th>creatinine_phosphokinase</th>\n",
       "      <th>diabetes</th>\n",
       "      <th>ejection_fraction</th>\n",
       "      <th>high_blood_pressure</th>\n",
       "      <th>platelets</th>\n",
       "      <th>serum_creatinine</th>\n",
       "      <th>serum_sodium</th>\n",
       "      <th>sex</th>\n",
       "      <th>smoking</th>\n",
       "      <th>time</th>\n",
       "      <th>DEATH_EVENT</th>\n",
       "      <th>overall prediction</th>\n",
       "    </tr>\n",
       "  </thead>\n",
       "  <tbody>\n",
       "    <tr>\n",
       "      <th>3</th>\n",
       "      <td>66.0</td>\n",
       "      <td>1</td>\n",
       "      <td>72</td>\n",
       "      <td>0</td>\n",
       "      <td>40</td>\n",
       "      <td>1</td>\n",
       "      <td>242000.0</td>\n",
       "      <td>1.2</td>\n",
       "      <td>134</td>\n",
       "      <td>1</td>\n",
       "      <td>0</td>\n",
       "      <td>121</td>\n",
       "      <td>0</td>\n",
       "      <td>0</td>\n",
       "    </tr>\n",
       "    <tr>\n",
       "      <th>13</th>\n",
       "      <td>65.0</td>\n",
       "      <td>0</td>\n",
       "      <td>395</td>\n",
       "      <td>1</td>\n",
       "      <td>25</td>\n",
       "      <td>0</td>\n",
       "      <td>265000.0</td>\n",
       "      <td>1.2</td>\n",
       "      <td>136</td>\n",
       "      <td>1</td>\n",
       "      <td>1</td>\n",
       "      <td>154</td>\n",
       "      <td>1</td>\n",
       "      <td>0</td>\n",
       "    </tr>\n",
       "    <tr>\n",
       "      <th>5</th>\n",
       "      <td>60.0</td>\n",
       "      <td>0</td>\n",
       "      <td>1896</td>\n",
       "      <td>1</td>\n",
       "      <td>25</td>\n",
       "      <td>0</td>\n",
       "      <td>365000.0</td>\n",
       "      <td>2.1</td>\n",
       "      <td>144</td>\n",
       "      <td>0</td>\n",
       "      <td>0</td>\n",
       "      <td>172</td>\n",
       "      <td>1</td>\n",
       "      <td>0</td>\n",
       "    </tr>\n",
       "    <tr>\n",
       "      <th>11</th>\n",
       "      <td>82.0</td>\n",
       "      <td>0</td>\n",
       "      <td>70</td>\n",
       "      <td>1</td>\n",
       "      <td>30</td>\n",
       "      <td>0</td>\n",
       "      <td>200000.0</td>\n",
       "      <td>1.2</td>\n",
       "      <td>132</td>\n",
       "      <td>1</td>\n",
       "      <td>1</td>\n",
       "      <td>26</td>\n",
       "      <td>1</td>\n",
       "      <td>1</td>\n",
       "    </tr>\n",
       "    <tr>\n",
       "      <th>4</th>\n",
       "      <td>55.0</td>\n",
       "      <td>0</td>\n",
       "      <td>1820</td>\n",
       "      <td>0</td>\n",
       "      <td>38</td>\n",
       "      <td>0</td>\n",
       "      <td>270000.0</td>\n",
       "      <td>1.2</td>\n",
       "      <td>139</td>\n",
       "      <td>0</td>\n",
       "      <td>0</td>\n",
       "      <td>271</td>\n",
       "      <td>0</td>\n",
       "      <td>0</td>\n",
       "    </tr>\n",
       "  </tbody>\n",
       "</table>\n",
       "</div>"
      ],
      "text/plain": [
       "     age  anaemia  creatinine_phosphokinase  diabetes  ejection_fraction  \\\n",
       "3   66.0        1                        72         0                 40   \n",
       "13  65.0        0                       395         1                 25   \n",
       "5   60.0        0                      1896         1                 25   \n",
       "11  82.0        0                        70         1                 30   \n",
       "4   55.0        0                      1820         0                 38   \n",
       "\n",
       "    high_blood_pressure  platelets  serum_creatinine  serum_sodium  sex  \\\n",
       "3                     1   242000.0               1.2           134    1   \n",
       "13                    0   265000.0               1.2           136    1   \n",
       "5                     0   365000.0               2.1           144    0   \n",
       "11                    0   200000.0               1.2           132    1   \n",
       "4                     0   270000.0               1.2           139    0   \n",
       "\n",
       "    smoking  time  DEATH_EVENT  overall prediction  \n",
       "3         0   121            0                   0  \n",
       "13        1   154            1                   0  \n",
       "5         0   172            1                   0  \n",
       "11        1    26            1                   1  \n",
       "4         0   271            0                   0  "
      ]
     },
     "execution_count": 62,
     "metadata": {},
     "output_type": "execute_result"
    }
   ],
   "source": [
    "# concate between inference\n",
    "\n",
    "data_final = pd.concat([data_inf, y_pred_inf_df], axis=1)\n",
    "data_final.sample(5)"
   ]
  },
  {
   "cell_type": "code",
   "execution_count": 63,
   "metadata": {},
   "outputs": [
    {
     "name": "stdout",
     "output_type": "stream",
     "text": [
      "              precision    recall  f1-score   support\n",
      "\n",
      "           0       0.80      0.89      0.84         9\n",
      "           1       0.80      0.67      0.73         6\n",
      "\n",
      "    accuracy                           0.80        15\n",
      "   macro avg       0.80      0.78      0.78        15\n",
      "weighted avg       0.80      0.80      0.80        15\n",
      "\n"
     ]
    }
   ],
   "source": [
    "print(classification_report(data_final['DEATH_EVENT'] ,data_final['overall prediction']))"
   ]
  },
  {
   "cell_type": "markdown",
   "metadata": {},
   "source": [
    "# XII. Conclusions\n",
    "\n",
    "\n",
    "After we explore the data we can see that the older people get heart failure, the higher the risks of death. next we can found heart failure, and deaths caused by it happens more in men. Although the the death rate from heart failure is slightly higher in women than men. From the data we found that people with diabetes have slightly lower numbers from having a heart failure. Heart failures are far often encountered by people who smoke, smoking probably one of the biggest cause of heart failure. That said the rate of survival of people who smoke is more or less the same with non smoker, perhaps there are other factors that affect the rates of survival.\n",
    "\n",
    "From the two model we've done, The random forest model performs better compared to gradient boost. That said, gradient boost modeling on the test set is better fit than random forest.\n",
    "\n"
   ]
  }
 ],
 "metadata": {
  "kernelspec": {
   "display_name": "Python 3.9.12 ('base')",
   "language": "python",
   "name": "python3"
  },
  "language_info": {
   "codemirror_mode": {
    "name": "ipython",
    "version": 3
   },
   "file_extension": ".py",
   "mimetype": "text/x-python",
   "name": "python",
   "nbconvert_exporter": "python",
   "pygments_lexer": "ipython3",
   "version": "3.9.12"
  },
  "orig_nbformat": 4,
  "vscode": {
   "interpreter": {
    "hash": "1b15b47e994a45b2c1c9c2019b348cb81bbb68780db9285c808c045d049d064a"
   }
  }
 },
 "nbformat": 4,
 "nbformat_minor": 2
}
